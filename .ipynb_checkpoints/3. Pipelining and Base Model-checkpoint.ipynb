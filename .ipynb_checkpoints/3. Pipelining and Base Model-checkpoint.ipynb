{
 "cells": [
  {
   "cell_type": "markdown",
   "id": "b4aca0a2",
   "metadata": {},
   "source": [
    "# Pipelining and Base Model"
   ]
  },
  {
   "cell_type": "code",
   "execution_count": 1,
   "id": "668cf884",
   "metadata": {},
   "outputs": [],
   "source": [
    "import numpy as np\n",
    "import pandas as pd\n",
    "import help_functions as hf"
   ]
  },
  {
   "cell_type": "code",
   "execution_count": 2,
   "id": "db9ac7c8",
   "metadata": {},
   "outputs": [],
   "source": [
    "from sklearn.model_selection import train_test_split\n",
    "from sklearn.preprocessing import LabelEncoder\n",
    "\n",
    "df = pd.read_csv('RTA Dataset.csv')\n",
    "X = df.iloc[:, :-1]\n",
    "y = df.iloc[:, -1]\n",
    "X_train, X_test, y_train, y_test = train_test_split(X, y, test_size=0.3, stratify=y)\n",
    "\n",
    "le = LabelEncoder()\n",
    "y_train = le.fit_transform(y_train)\n",
    "y_test = le.transform(y_test)"
   ]
  },
  {
   "cell_type": "code",
   "execution_count": 3,
   "id": "60d041dd",
   "metadata": {},
   "outputs": [],
   "source": [
    "from sklearn.preprocessing import OrdinalEncoder\n",
    "from sklearn.impute import KNNImputer\n",
    "from fancyimpute import KNN\n",
    "from sklearn.preprocessing import StandardScaler, OneHotEncoder, FunctionTransformer\n",
    "from sklearn.compose import make_column_transformer\n",
    "from sklearn.pipeline import Pipeline\n",
    "from sklearn.feature_selection import SelectKBest\n",
    "from sklearn.decomposition import PCA\n",
    "from sklearn.linear_model import LogisticRegression"
   ]
  },
  {
   "cell_type": "code",
   "execution_count": 4,
   "id": "ded48edd",
   "metadata": {},
   "outputs": [],
   "source": [
    "oe = OrdinalEncoder()\n",
    "knn_imputer = KNNImputer()\n",
    "fancy_knn = KNN()\n",
    "\n",
    "preprocess = FunctionTransformer(hf.preprocess)\n",
    "encode = FunctionTransformer(hf.encode, kw_args={'encoder': oe})\n",
    "impute = FunctionTransformer(hf.impute, kw_args={'imputer': knn_imputer})\n",
    "ohe = OneHotEncoder(sparse=False, handle_unknown='ignore')\n",
    "k_best = SelectKBest(k=21)\n",
    "pca = PCA(n_components=21)\n",
    "base_model = LogisticRegression(multi_class='multinomial', max_iter=1000)"
   ]
  },
  {
   "cell_type": "code",
   "execution_count": 5,
   "id": "c551cebc",
   "metadata": {},
   "outputs": [],
   "source": [
    "ohe = make_column_transformer(\n",
    "    (ohe, hf.cat_col_without_order)\n",
    ")"
   ]
  },
  {
   "cell_type": "code",
   "execution_count": 6,
   "id": "d259b0ec",
   "metadata": {},
   "outputs": [],
   "source": [
    "main_pipe_k_best = Pipeline([\n",
    "        ('preprocess', preprocess),                 \n",
    "        ('encoder', encode),        \n",
    "        ('impute', impute),\n",
    "        ('ohe', ohe),                \n",
    "        ('k_best', k_best),\n",
    "        ('model', base_model),\n",
    "    ])\n",
    "\n",
    "main_pipe_pca = Pipeline([\n",
    "        ('preprocess', preprocess),                 \n",
    "        ('encoder', encode),\n",
    "        ('impute', impute),\n",
    "        ('ohe', ohe),                \n",
    "        ('pca', pca),\n",
    "        ('model', base_model),\n",
    "    ])"
   ]
  },
  {
   "cell_type": "code",
   "execution_count": 7,
   "id": "ff6d23f2",
   "metadata": {},
   "outputs": [
    {
     "data": {
      "text/html": [
       "<style>#sk-16b20b0d-1808-42ae-a192-f7e16849ae8b {color: black;background-color: white;}#sk-16b20b0d-1808-42ae-a192-f7e16849ae8b pre{padding: 0;}#sk-16b20b0d-1808-42ae-a192-f7e16849ae8b div.sk-toggleable {background-color: white;}#sk-16b20b0d-1808-42ae-a192-f7e16849ae8b label.sk-toggleable__label {cursor: pointer;display: block;width: 100%;margin-bottom: 0;padding: 0.3em;box-sizing: border-box;text-align: center;}#sk-16b20b0d-1808-42ae-a192-f7e16849ae8b label.sk-toggleable__label-arrow:before {content: \"▸\";float: left;margin-right: 0.25em;color: #696969;}#sk-16b20b0d-1808-42ae-a192-f7e16849ae8b label.sk-toggleable__label-arrow:hover:before {color: black;}#sk-16b20b0d-1808-42ae-a192-f7e16849ae8b div.sk-estimator:hover label.sk-toggleable__label-arrow:before {color: black;}#sk-16b20b0d-1808-42ae-a192-f7e16849ae8b div.sk-toggleable__content {max-height: 0;max-width: 0;overflow: hidden;text-align: left;background-color: #f0f8ff;}#sk-16b20b0d-1808-42ae-a192-f7e16849ae8b div.sk-toggleable__content pre {margin: 0.2em;color: black;border-radius: 0.25em;background-color: #f0f8ff;}#sk-16b20b0d-1808-42ae-a192-f7e16849ae8b input.sk-toggleable__control:checked~div.sk-toggleable__content {max-height: 200px;max-width: 100%;overflow: auto;}#sk-16b20b0d-1808-42ae-a192-f7e16849ae8b input.sk-toggleable__control:checked~label.sk-toggleable__label-arrow:before {content: \"▾\";}#sk-16b20b0d-1808-42ae-a192-f7e16849ae8b div.sk-estimator input.sk-toggleable__control:checked~label.sk-toggleable__label {background-color: #d4ebff;}#sk-16b20b0d-1808-42ae-a192-f7e16849ae8b div.sk-label input.sk-toggleable__control:checked~label.sk-toggleable__label {background-color: #d4ebff;}#sk-16b20b0d-1808-42ae-a192-f7e16849ae8b input.sk-hidden--visually {border: 0;clip: rect(1px 1px 1px 1px);clip: rect(1px, 1px, 1px, 1px);height: 1px;margin: -1px;overflow: hidden;padding: 0;position: absolute;width: 1px;}#sk-16b20b0d-1808-42ae-a192-f7e16849ae8b div.sk-estimator {font-family: monospace;background-color: #f0f8ff;border: 1px dotted black;border-radius: 0.25em;box-sizing: border-box;margin-bottom: 0.5em;}#sk-16b20b0d-1808-42ae-a192-f7e16849ae8b div.sk-estimator:hover {background-color: #d4ebff;}#sk-16b20b0d-1808-42ae-a192-f7e16849ae8b div.sk-parallel-item::after {content: \"\";width: 100%;border-bottom: 1px solid gray;flex-grow: 1;}#sk-16b20b0d-1808-42ae-a192-f7e16849ae8b div.sk-label:hover label.sk-toggleable__label {background-color: #d4ebff;}#sk-16b20b0d-1808-42ae-a192-f7e16849ae8b div.sk-serial::before {content: \"\";position: absolute;border-left: 1px solid gray;box-sizing: border-box;top: 2em;bottom: 0;left: 50%;}#sk-16b20b0d-1808-42ae-a192-f7e16849ae8b div.sk-serial {display: flex;flex-direction: column;align-items: center;background-color: white;padding-right: 0.2em;padding-left: 0.2em;}#sk-16b20b0d-1808-42ae-a192-f7e16849ae8b div.sk-item {z-index: 1;}#sk-16b20b0d-1808-42ae-a192-f7e16849ae8b div.sk-parallel {display: flex;align-items: stretch;justify-content: center;background-color: white;}#sk-16b20b0d-1808-42ae-a192-f7e16849ae8b div.sk-parallel::before {content: \"\";position: absolute;border-left: 1px solid gray;box-sizing: border-box;top: 2em;bottom: 0;left: 50%;}#sk-16b20b0d-1808-42ae-a192-f7e16849ae8b div.sk-parallel-item {display: flex;flex-direction: column;position: relative;background-color: white;}#sk-16b20b0d-1808-42ae-a192-f7e16849ae8b div.sk-parallel-item:first-child::after {align-self: flex-end;width: 50%;}#sk-16b20b0d-1808-42ae-a192-f7e16849ae8b div.sk-parallel-item:last-child::after {align-self: flex-start;width: 50%;}#sk-16b20b0d-1808-42ae-a192-f7e16849ae8b div.sk-parallel-item:only-child::after {width: 0;}#sk-16b20b0d-1808-42ae-a192-f7e16849ae8b div.sk-dashed-wrapped {border: 1px dashed gray;margin: 0 0.4em 0.5em 0.4em;box-sizing: border-box;padding-bottom: 0.4em;background-color: white;position: relative;}#sk-16b20b0d-1808-42ae-a192-f7e16849ae8b div.sk-label label {font-family: monospace;font-weight: bold;background-color: white;display: inline-block;line-height: 1.2em;}#sk-16b20b0d-1808-42ae-a192-f7e16849ae8b div.sk-label-container {position: relative;z-index: 2;text-align: center;}#sk-16b20b0d-1808-42ae-a192-f7e16849ae8b div.sk-container {/* jupyter's `normalize.less` sets `[hidden] { display: none; }` but bootstrap.min.css set `[hidden] { display: none !important; }` so we also need the `!important` here to be able to override the default hidden behavior on the sphinx rendered scikit-learn.org. See: https://github.com/scikit-learn/scikit-learn/issues/21755 */display: inline-block !important;position: relative;}#sk-16b20b0d-1808-42ae-a192-f7e16849ae8b div.sk-text-repr-fallback {display: none;}</style><div id=\"sk-16b20b0d-1808-42ae-a192-f7e16849ae8b\" class=\"sk-top-container\"><div class=\"sk-text-repr-fallback\"><pre>Pipeline(steps=[(&#x27;preprocess&#x27;,\n",
       "                 FunctionTransformer(func=&lt;function preprocess at 0x000002339AC13160&gt;)),\n",
       "                (&#x27;encoder&#x27;,\n",
       "                 FunctionTransformer(func=&lt;function encode at 0x000002339BDDAB80&gt;,\n",
       "                                     kw_args={&#x27;encoder&#x27;: OrdinalEncoder()})),\n",
       "                (&#x27;impute&#x27;,\n",
       "                 FunctionTransformer(func=&lt;function impute at 0x000002339BE773A0&gt;,\n",
       "                                     kw_args={&#x27;imputer&#x27;: KNNImputer()})),\n",
       "                (&#x27;ohe&#x27;,\n",
       "                 ColumnTransformer(transfor...\n",
       "                                                   &#x27;Types_of_Junction&#x27;,\n",
       "                                                   &#x27;Type_of_vehicle&#x27;,\n",
       "                                                   &#x27;Vehicle_driver_relation&#x27;,\n",
       "                                                   &#x27;Light_conditions&#x27;,\n",
       "                                                   &#x27;Educational_level&#x27;,\n",
       "                                                   &#x27;Road_allignment&#x27;,\n",
       "                                                   &#x27;Cause_of_accident&#x27;,\n",
       "                                                   &#x27;Fitness_of_casuality&#x27;,\n",
       "                                                   &#x27;Road_surface_type&#x27;,\n",
       "                                                   &#x27;Owner_of_vehicle&#x27;,\n",
       "                                                   &#x27;Lanes_or_Medians&#x27;,\n",
       "                                                   &#x27;Area_accident_occured&#x27;])])),\n",
       "                (&#x27;k_best&#x27;, SelectKBest(k=21)),\n",
       "                (&#x27;model&#x27;,\n",
       "                 LogisticRegression(max_iter=1000, multi_class=&#x27;multinomial&#x27;))])</pre><b>Please rerun this cell to show the HTML repr or trust the notebook.</b></div><div class=\"sk-container\" hidden><div class=\"sk-item sk-dashed-wrapped\"><div class=\"sk-label-container\"><div class=\"sk-label sk-toggleable\"><input class=\"sk-toggleable__control sk-hidden--visually\" id=\"36312957-d754-4fc7-b79f-8d5c99e23fa7\" type=\"checkbox\" ><label for=\"36312957-d754-4fc7-b79f-8d5c99e23fa7\" class=\"sk-toggleable__label sk-toggleable__label-arrow\">Pipeline</label><div class=\"sk-toggleable__content\"><pre>Pipeline(steps=[(&#x27;preprocess&#x27;,\n",
       "                 FunctionTransformer(func=&lt;function preprocess at 0x000002339AC13160&gt;)),\n",
       "                (&#x27;encoder&#x27;,\n",
       "                 FunctionTransformer(func=&lt;function encode at 0x000002339BDDAB80&gt;,\n",
       "                                     kw_args={&#x27;encoder&#x27;: OrdinalEncoder()})),\n",
       "                (&#x27;impute&#x27;,\n",
       "                 FunctionTransformer(func=&lt;function impute at 0x000002339BE773A0&gt;,\n",
       "                                     kw_args={&#x27;imputer&#x27;: KNNImputer()})),\n",
       "                (&#x27;ohe&#x27;,\n",
       "                 ColumnTransformer(transfor...\n",
       "                                                   &#x27;Types_of_Junction&#x27;,\n",
       "                                                   &#x27;Type_of_vehicle&#x27;,\n",
       "                                                   &#x27;Vehicle_driver_relation&#x27;,\n",
       "                                                   &#x27;Light_conditions&#x27;,\n",
       "                                                   &#x27;Educational_level&#x27;,\n",
       "                                                   &#x27;Road_allignment&#x27;,\n",
       "                                                   &#x27;Cause_of_accident&#x27;,\n",
       "                                                   &#x27;Fitness_of_casuality&#x27;,\n",
       "                                                   &#x27;Road_surface_type&#x27;,\n",
       "                                                   &#x27;Owner_of_vehicle&#x27;,\n",
       "                                                   &#x27;Lanes_or_Medians&#x27;,\n",
       "                                                   &#x27;Area_accident_occured&#x27;])])),\n",
       "                (&#x27;k_best&#x27;, SelectKBest(k=21)),\n",
       "                (&#x27;model&#x27;,\n",
       "                 LogisticRegression(max_iter=1000, multi_class=&#x27;multinomial&#x27;))])</pre></div></div></div><div class=\"sk-serial\"><div class=\"sk-item\"><div class=\"sk-estimator sk-toggleable\"><input class=\"sk-toggleable__control sk-hidden--visually\" id=\"1dfd54af-1ef5-42c3-a79a-b18cea5e90d7\" type=\"checkbox\" ><label for=\"1dfd54af-1ef5-42c3-a79a-b18cea5e90d7\" class=\"sk-toggleable__label sk-toggleable__label-arrow\">FunctionTransformer</label><div class=\"sk-toggleable__content\"><pre>FunctionTransformer(func=&lt;function preprocess at 0x000002339AC13160&gt;)</pre></div></div></div><div class=\"sk-item\"><div class=\"sk-estimator sk-toggleable\"><input class=\"sk-toggleable__control sk-hidden--visually\" id=\"994a75ce-4669-401f-8795-4ef59027d436\" type=\"checkbox\" ><label for=\"994a75ce-4669-401f-8795-4ef59027d436\" class=\"sk-toggleable__label sk-toggleable__label-arrow\">FunctionTransformer</label><div class=\"sk-toggleable__content\"><pre>FunctionTransformer(func=&lt;function encode at 0x000002339BDDAB80&gt;,\n",
       "                    kw_args={&#x27;encoder&#x27;: OrdinalEncoder()})</pre></div></div></div><div class=\"sk-item\"><div class=\"sk-estimator sk-toggleable\"><input class=\"sk-toggleable__control sk-hidden--visually\" id=\"07a2f8da-8d03-4f80-a003-2ff604997e09\" type=\"checkbox\" ><label for=\"07a2f8da-8d03-4f80-a003-2ff604997e09\" class=\"sk-toggleable__label sk-toggleable__label-arrow\">FunctionTransformer</label><div class=\"sk-toggleable__content\"><pre>FunctionTransformer(func=&lt;function impute at 0x000002339BE773A0&gt;,\n",
       "                    kw_args={&#x27;imputer&#x27;: KNNImputer()})</pre></div></div></div><div class=\"sk-item sk-dashed-wrapped\"><div class=\"sk-label-container\"><div class=\"sk-label sk-toggleable\"><input class=\"sk-toggleable__control sk-hidden--visually\" id=\"5efd6972-dded-4ffb-8888-92779597ead5\" type=\"checkbox\" ><label for=\"5efd6972-dded-4ffb-8888-92779597ead5\" class=\"sk-toggleable__label sk-toggleable__label-arrow\">ohe: ColumnTransformer</label><div class=\"sk-toggleable__content\"><pre>ColumnTransformer(transformers=[(&#x27;onehotencoder&#x27;,\n",
       "                                 OneHotEncoder(handle_unknown=&#x27;ignore&#x27;,\n",
       "                                               sparse=False),\n",
       "                                 [&#x27;Type_of_collision&#x27;, &#x27;Pedestrian_movement&#x27;,\n",
       "                                  &#x27;Weather_conditions&#x27;, &#x27;Casualty_class&#x27;,\n",
       "                                  &#x27;Sex_of_casualty&#x27;, &#x27;Road_surface_conditions&#x27;,\n",
       "                                  &#x27;Sex_of_driver&#x27;, &#x27;Vehicle_movement&#x27;,\n",
       "                                  &#x27;Types_of_Junction&#x27;, &#x27;Type_of_vehicle&#x27;,\n",
       "                                  &#x27;Vehicle_driver_relation&#x27;, &#x27;Light_conditions&#x27;,\n",
       "                                  &#x27;Educational_level&#x27;, &#x27;Road_allignment&#x27;,\n",
       "                                  &#x27;Cause_of_accident&#x27;, &#x27;Fitness_of_casuality&#x27;,\n",
       "                                  &#x27;Road_surface_type&#x27;, &#x27;Owner_of_vehicle&#x27;,\n",
       "                                  &#x27;Lanes_or_Medians&#x27;,\n",
       "                                  &#x27;Area_accident_occured&#x27;])])</pre></div></div></div><div class=\"sk-parallel\"><div class=\"sk-parallel-item\"><div class=\"sk-item\"><div class=\"sk-label-container\"><div class=\"sk-label sk-toggleable\"><input class=\"sk-toggleable__control sk-hidden--visually\" id=\"018a1eee-e8b1-48c7-baca-07da3222bcec\" type=\"checkbox\" ><label for=\"018a1eee-e8b1-48c7-baca-07da3222bcec\" class=\"sk-toggleable__label sk-toggleable__label-arrow\">onehotencoder</label><div class=\"sk-toggleable__content\"><pre>[&#x27;Type_of_collision&#x27;, &#x27;Pedestrian_movement&#x27;, &#x27;Weather_conditions&#x27;, &#x27;Casualty_class&#x27;, &#x27;Sex_of_casualty&#x27;, &#x27;Road_surface_conditions&#x27;, &#x27;Sex_of_driver&#x27;, &#x27;Vehicle_movement&#x27;, &#x27;Types_of_Junction&#x27;, &#x27;Type_of_vehicle&#x27;, &#x27;Vehicle_driver_relation&#x27;, &#x27;Light_conditions&#x27;, &#x27;Educational_level&#x27;, &#x27;Road_allignment&#x27;, &#x27;Cause_of_accident&#x27;, &#x27;Fitness_of_casuality&#x27;, &#x27;Road_surface_type&#x27;, &#x27;Owner_of_vehicle&#x27;, &#x27;Lanes_or_Medians&#x27;, &#x27;Area_accident_occured&#x27;]</pre></div></div></div><div class=\"sk-serial\"><div class=\"sk-item\"><div class=\"sk-estimator sk-toggleable\"><input class=\"sk-toggleable__control sk-hidden--visually\" id=\"4a36dd97-a12b-42d6-905f-2060adb76d9e\" type=\"checkbox\" ><label for=\"4a36dd97-a12b-42d6-905f-2060adb76d9e\" class=\"sk-toggleable__label sk-toggleable__label-arrow\">OneHotEncoder</label><div class=\"sk-toggleable__content\"><pre>OneHotEncoder(handle_unknown=&#x27;ignore&#x27;, sparse=False)</pre></div></div></div></div></div></div></div></div><div class=\"sk-item\"><div class=\"sk-estimator sk-toggleable\"><input class=\"sk-toggleable__control sk-hidden--visually\" id=\"e0615072-6195-4a35-b96d-8b5cd7f0a4c8\" type=\"checkbox\" ><label for=\"e0615072-6195-4a35-b96d-8b5cd7f0a4c8\" class=\"sk-toggleable__label sk-toggleable__label-arrow\">SelectKBest</label><div class=\"sk-toggleable__content\"><pre>SelectKBest(k=21)</pre></div></div></div><div class=\"sk-item\"><div class=\"sk-estimator sk-toggleable\"><input class=\"sk-toggleable__control sk-hidden--visually\" id=\"e0c32f56-a7c6-47a5-a54b-817548b9651d\" type=\"checkbox\" ><label for=\"e0c32f56-a7c6-47a5-a54b-817548b9651d\" class=\"sk-toggleable__label sk-toggleable__label-arrow\">LogisticRegression</label><div class=\"sk-toggleable__content\"><pre>LogisticRegression(max_iter=1000, multi_class=&#x27;multinomial&#x27;)</pre></div></div></div></div></div></div></div>"
      ],
      "text/plain": [
       "Pipeline(steps=[('preprocess',\n",
       "                 FunctionTransformer(func=<function preprocess at 0x000002339AC13160>)),\n",
       "                ('encoder',\n",
       "                 FunctionTransformer(func=<function encode at 0x000002339BDDAB80>,\n",
       "                                     kw_args={'encoder': OrdinalEncoder()})),\n",
       "                ('impute',\n",
       "                 FunctionTransformer(func=<function impute at 0x000002339BE773A0>,\n",
       "                                     kw_args={'imputer': KNNImputer()})),\n",
       "                ('ohe',\n",
       "                 ColumnTransformer(transfor...\n",
       "                                                   'Types_of_Junction',\n",
       "                                                   'Type_of_vehicle',\n",
       "                                                   'Vehicle_driver_relation',\n",
       "                                                   'Light_conditions',\n",
       "                                                   'Educational_level',\n",
       "                                                   'Road_allignment',\n",
       "                                                   'Cause_of_accident',\n",
       "                                                   'Fitness_of_casuality',\n",
       "                                                   'Road_surface_type',\n",
       "                                                   'Owner_of_vehicle',\n",
       "                                                   'Lanes_or_Medians',\n",
       "                                                   'Area_accident_occured'])])),\n",
       "                ('k_best', SelectKBest(k=21)),\n",
       "                ('model',\n",
       "                 LogisticRegression(max_iter=1000, multi_class='multinomial'))])"
      ]
     },
     "execution_count": 7,
     "metadata": {},
     "output_type": "execute_result"
    }
   ],
   "source": [
    "from sklearn import set_config\n",
    "set_config(display='diagram')\n",
    "\n",
    "main_pipe_k_best"
   ]
  },
  {
   "cell_type": "code",
   "execution_count": 8,
   "id": "f5c9804f",
   "metadata": {},
   "outputs": [
    {
     "data": {
      "text/html": [
       "<style>#sk-be0f0852-a1a7-42f6-98ce-e6d2055eab69 {color: black;background-color: white;}#sk-be0f0852-a1a7-42f6-98ce-e6d2055eab69 pre{padding: 0;}#sk-be0f0852-a1a7-42f6-98ce-e6d2055eab69 div.sk-toggleable {background-color: white;}#sk-be0f0852-a1a7-42f6-98ce-e6d2055eab69 label.sk-toggleable__label {cursor: pointer;display: block;width: 100%;margin-bottom: 0;padding: 0.3em;box-sizing: border-box;text-align: center;}#sk-be0f0852-a1a7-42f6-98ce-e6d2055eab69 label.sk-toggleable__label-arrow:before {content: \"▸\";float: left;margin-right: 0.25em;color: #696969;}#sk-be0f0852-a1a7-42f6-98ce-e6d2055eab69 label.sk-toggleable__label-arrow:hover:before {color: black;}#sk-be0f0852-a1a7-42f6-98ce-e6d2055eab69 div.sk-estimator:hover label.sk-toggleable__label-arrow:before {color: black;}#sk-be0f0852-a1a7-42f6-98ce-e6d2055eab69 div.sk-toggleable__content {max-height: 0;max-width: 0;overflow: hidden;text-align: left;background-color: #f0f8ff;}#sk-be0f0852-a1a7-42f6-98ce-e6d2055eab69 div.sk-toggleable__content pre {margin: 0.2em;color: black;border-radius: 0.25em;background-color: #f0f8ff;}#sk-be0f0852-a1a7-42f6-98ce-e6d2055eab69 input.sk-toggleable__control:checked~div.sk-toggleable__content {max-height: 200px;max-width: 100%;overflow: auto;}#sk-be0f0852-a1a7-42f6-98ce-e6d2055eab69 input.sk-toggleable__control:checked~label.sk-toggleable__label-arrow:before {content: \"▾\";}#sk-be0f0852-a1a7-42f6-98ce-e6d2055eab69 div.sk-estimator input.sk-toggleable__control:checked~label.sk-toggleable__label {background-color: #d4ebff;}#sk-be0f0852-a1a7-42f6-98ce-e6d2055eab69 div.sk-label input.sk-toggleable__control:checked~label.sk-toggleable__label {background-color: #d4ebff;}#sk-be0f0852-a1a7-42f6-98ce-e6d2055eab69 input.sk-hidden--visually {border: 0;clip: rect(1px 1px 1px 1px);clip: rect(1px, 1px, 1px, 1px);height: 1px;margin: -1px;overflow: hidden;padding: 0;position: absolute;width: 1px;}#sk-be0f0852-a1a7-42f6-98ce-e6d2055eab69 div.sk-estimator {font-family: monospace;background-color: #f0f8ff;border: 1px dotted black;border-radius: 0.25em;box-sizing: border-box;margin-bottom: 0.5em;}#sk-be0f0852-a1a7-42f6-98ce-e6d2055eab69 div.sk-estimator:hover {background-color: #d4ebff;}#sk-be0f0852-a1a7-42f6-98ce-e6d2055eab69 div.sk-parallel-item::after {content: \"\";width: 100%;border-bottom: 1px solid gray;flex-grow: 1;}#sk-be0f0852-a1a7-42f6-98ce-e6d2055eab69 div.sk-label:hover label.sk-toggleable__label {background-color: #d4ebff;}#sk-be0f0852-a1a7-42f6-98ce-e6d2055eab69 div.sk-serial::before {content: \"\";position: absolute;border-left: 1px solid gray;box-sizing: border-box;top: 2em;bottom: 0;left: 50%;}#sk-be0f0852-a1a7-42f6-98ce-e6d2055eab69 div.sk-serial {display: flex;flex-direction: column;align-items: center;background-color: white;padding-right: 0.2em;padding-left: 0.2em;}#sk-be0f0852-a1a7-42f6-98ce-e6d2055eab69 div.sk-item {z-index: 1;}#sk-be0f0852-a1a7-42f6-98ce-e6d2055eab69 div.sk-parallel {display: flex;align-items: stretch;justify-content: center;background-color: white;}#sk-be0f0852-a1a7-42f6-98ce-e6d2055eab69 div.sk-parallel::before {content: \"\";position: absolute;border-left: 1px solid gray;box-sizing: border-box;top: 2em;bottom: 0;left: 50%;}#sk-be0f0852-a1a7-42f6-98ce-e6d2055eab69 div.sk-parallel-item {display: flex;flex-direction: column;position: relative;background-color: white;}#sk-be0f0852-a1a7-42f6-98ce-e6d2055eab69 div.sk-parallel-item:first-child::after {align-self: flex-end;width: 50%;}#sk-be0f0852-a1a7-42f6-98ce-e6d2055eab69 div.sk-parallel-item:last-child::after {align-self: flex-start;width: 50%;}#sk-be0f0852-a1a7-42f6-98ce-e6d2055eab69 div.sk-parallel-item:only-child::after {width: 0;}#sk-be0f0852-a1a7-42f6-98ce-e6d2055eab69 div.sk-dashed-wrapped {border: 1px dashed gray;margin: 0 0.4em 0.5em 0.4em;box-sizing: border-box;padding-bottom: 0.4em;background-color: white;position: relative;}#sk-be0f0852-a1a7-42f6-98ce-e6d2055eab69 div.sk-label label {font-family: monospace;font-weight: bold;background-color: white;display: inline-block;line-height: 1.2em;}#sk-be0f0852-a1a7-42f6-98ce-e6d2055eab69 div.sk-label-container {position: relative;z-index: 2;text-align: center;}#sk-be0f0852-a1a7-42f6-98ce-e6d2055eab69 div.sk-container {/* jupyter's `normalize.less` sets `[hidden] { display: none; }` but bootstrap.min.css set `[hidden] { display: none !important; }` so we also need the `!important` here to be able to override the default hidden behavior on the sphinx rendered scikit-learn.org. See: https://github.com/scikit-learn/scikit-learn/issues/21755 */display: inline-block !important;position: relative;}#sk-be0f0852-a1a7-42f6-98ce-e6d2055eab69 div.sk-text-repr-fallback {display: none;}</style><div id=\"sk-be0f0852-a1a7-42f6-98ce-e6d2055eab69\" class=\"sk-top-container\"><div class=\"sk-text-repr-fallback\"><pre>Pipeline(steps=[(&#x27;preprocess&#x27;,\n",
       "                 FunctionTransformer(func=&lt;function preprocess at 0x000002339AC13160&gt;)),\n",
       "                (&#x27;encoder&#x27;,\n",
       "                 FunctionTransformer(func=&lt;function encode at 0x000002339BDDAB80&gt;,\n",
       "                                     kw_args={&#x27;encoder&#x27;: OrdinalEncoder()})),\n",
       "                (&#x27;impute&#x27;,\n",
       "                 FunctionTransformer(func=&lt;function impute at 0x000002339BE773A0&gt;,\n",
       "                                     kw_args={&#x27;imputer&#x27;: KNNImputer()})),\n",
       "                (&#x27;ohe&#x27;,\n",
       "                 ColumnTransformer(transfor...\n",
       "                                                   &#x27;Types_of_Junction&#x27;,\n",
       "                                                   &#x27;Type_of_vehicle&#x27;,\n",
       "                                                   &#x27;Vehicle_driver_relation&#x27;,\n",
       "                                                   &#x27;Light_conditions&#x27;,\n",
       "                                                   &#x27;Educational_level&#x27;,\n",
       "                                                   &#x27;Road_allignment&#x27;,\n",
       "                                                   &#x27;Cause_of_accident&#x27;,\n",
       "                                                   &#x27;Fitness_of_casuality&#x27;,\n",
       "                                                   &#x27;Road_surface_type&#x27;,\n",
       "                                                   &#x27;Owner_of_vehicle&#x27;,\n",
       "                                                   &#x27;Lanes_or_Medians&#x27;,\n",
       "                                                   &#x27;Area_accident_occured&#x27;])])),\n",
       "                (&#x27;k_best&#x27;, SelectKBest(k=21)),\n",
       "                (&#x27;model&#x27;,\n",
       "                 LogisticRegression(max_iter=1000, multi_class=&#x27;multinomial&#x27;))])</pre><b>Please rerun this cell to show the HTML repr or trust the notebook.</b></div><div class=\"sk-container\" hidden><div class=\"sk-item sk-dashed-wrapped\"><div class=\"sk-label-container\"><div class=\"sk-label sk-toggleable\"><input class=\"sk-toggleable__control sk-hidden--visually\" id=\"8f1255db-ce7c-4d10-a537-22f5d5fce0cf\" type=\"checkbox\" ><label for=\"8f1255db-ce7c-4d10-a537-22f5d5fce0cf\" class=\"sk-toggleable__label sk-toggleable__label-arrow\">Pipeline</label><div class=\"sk-toggleable__content\"><pre>Pipeline(steps=[(&#x27;preprocess&#x27;,\n",
       "                 FunctionTransformer(func=&lt;function preprocess at 0x000002339AC13160&gt;)),\n",
       "                (&#x27;encoder&#x27;,\n",
       "                 FunctionTransformer(func=&lt;function encode at 0x000002339BDDAB80&gt;,\n",
       "                                     kw_args={&#x27;encoder&#x27;: OrdinalEncoder()})),\n",
       "                (&#x27;impute&#x27;,\n",
       "                 FunctionTransformer(func=&lt;function impute at 0x000002339BE773A0&gt;,\n",
       "                                     kw_args={&#x27;imputer&#x27;: KNNImputer()})),\n",
       "                (&#x27;ohe&#x27;,\n",
       "                 ColumnTransformer(transfor...\n",
       "                                                   &#x27;Types_of_Junction&#x27;,\n",
       "                                                   &#x27;Type_of_vehicle&#x27;,\n",
       "                                                   &#x27;Vehicle_driver_relation&#x27;,\n",
       "                                                   &#x27;Light_conditions&#x27;,\n",
       "                                                   &#x27;Educational_level&#x27;,\n",
       "                                                   &#x27;Road_allignment&#x27;,\n",
       "                                                   &#x27;Cause_of_accident&#x27;,\n",
       "                                                   &#x27;Fitness_of_casuality&#x27;,\n",
       "                                                   &#x27;Road_surface_type&#x27;,\n",
       "                                                   &#x27;Owner_of_vehicle&#x27;,\n",
       "                                                   &#x27;Lanes_or_Medians&#x27;,\n",
       "                                                   &#x27;Area_accident_occured&#x27;])])),\n",
       "                (&#x27;k_best&#x27;, SelectKBest(k=21)),\n",
       "                (&#x27;model&#x27;,\n",
       "                 LogisticRegression(max_iter=1000, multi_class=&#x27;multinomial&#x27;))])</pre></div></div></div><div class=\"sk-serial\"><div class=\"sk-item\"><div class=\"sk-estimator sk-toggleable\"><input class=\"sk-toggleable__control sk-hidden--visually\" id=\"9834b4eb-0ddb-45a8-bd7a-6840c3d7c3ce\" type=\"checkbox\" ><label for=\"9834b4eb-0ddb-45a8-bd7a-6840c3d7c3ce\" class=\"sk-toggleable__label sk-toggleable__label-arrow\">FunctionTransformer</label><div class=\"sk-toggleable__content\"><pre>FunctionTransformer(func=&lt;function preprocess at 0x000002339AC13160&gt;)</pre></div></div></div><div class=\"sk-item\"><div class=\"sk-estimator sk-toggleable\"><input class=\"sk-toggleable__control sk-hidden--visually\" id=\"8b30d608-0464-4d1a-897b-ded7a77e0e63\" type=\"checkbox\" ><label for=\"8b30d608-0464-4d1a-897b-ded7a77e0e63\" class=\"sk-toggleable__label sk-toggleable__label-arrow\">FunctionTransformer</label><div class=\"sk-toggleable__content\"><pre>FunctionTransformer(func=&lt;function encode at 0x000002339BDDAB80&gt;,\n",
       "                    kw_args={&#x27;encoder&#x27;: OrdinalEncoder()})</pre></div></div></div><div class=\"sk-item\"><div class=\"sk-estimator sk-toggleable\"><input class=\"sk-toggleable__control sk-hidden--visually\" id=\"7015d423-cce1-4ec3-95f2-94acc80d448c\" type=\"checkbox\" ><label for=\"7015d423-cce1-4ec3-95f2-94acc80d448c\" class=\"sk-toggleable__label sk-toggleable__label-arrow\">FunctionTransformer</label><div class=\"sk-toggleable__content\"><pre>FunctionTransformer(func=&lt;function impute at 0x000002339BE773A0&gt;,\n",
       "                    kw_args={&#x27;imputer&#x27;: KNNImputer()})</pre></div></div></div><div class=\"sk-item sk-dashed-wrapped\"><div class=\"sk-label-container\"><div class=\"sk-label sk-toggleable\"><input class=\"sk-toggleable__control sk-hidden--visually\" id=\"4d25623b-0fe2-4286-9b2e-e9e86f56e714\" type=\"checkbox\" ><label for=\"4d25623b-0fe2-4286-9b2e-e9e86f56e714\" class=\"sk-toggleable__label sk-toggleable__label-arrow\">ohe: ColumnTransformer</label><div class=\"sk-toggleable__content\"><pre>ColumnTransformer(transformers=[(&#x27;onehotencoder&#x27;,\n",
       "                                 OneHotEncoder(handle_unknown=&#x27;ignore&#x27;,\n",
       "                                               sparse=False),\n",
       "                                 [&#x27;Type_of_collision&#x27;, &#x27;Pedestrian_movement&#x27;,\n",
       "                                  &#x27;Weather_conditions&#x27;, &#x27;Casualty_class&#x27;,\n",
       "                                  &#x27;Sex_of_casualty&#x27;, &#x27;Road_surface_conditions&#x27;,\n",
       "                                  &#x27;Sex_of_driver&#x27;, &#x27;Vehicle_movement&#x27;,\n",
       "                                  &#x27;Types_of_Junction&#x27;, &#x27;Type_of_vehicle&#x27;,\n",
       "                                  &#x27;Vehicle_driver_relation&#x27;, &#x27;Light_conditions&#x27;,\n",
       "                                  &#x27;Educational_level&#x27;, &#x27;Road_allignment&#x27;,\n",
       "                                  &#x27;Cause_of_accident&#x27;, &#x27;Fitness_of_casuality&#x27;,\n",
       "                                  &#x27;Road_surface_type&#x27;, &#x27;Owner_of_vehicle&#x27;,\n",
       "                                  &#x27;Lanes_or_Medians&#x27;,\n",
       "                                  &#x27;Area_accident_occured&#x27;])])</pre></div></div></div><div class=\"sk-parallel\"><div class=\"sk-parallel-item\"><div class=\"sk-item\"><div class=\"sk-label-container\"><div class=\"sk-label sk-toggleable\"><input class=\"sk-toggleable__control sk-hidden--visually\" id=\"13b56771-fa65-433c-b6c2-9e942d1f02c5\" type=\"checkbox\" ><label for=\"13b56771-fa65-433c-b6c2-9e942d1f02c5\" class=\"sk-toggleable__label sk-toggleable__label-arrow\">onehotencoder</label><div class=\"sk-toggleable__content\"><pre>[&#x27;Type_of_collision&#x27;, &#x27;Pedestrian_movement&#x27;, &#x27;Weather_conditions&#x27;, &#x27;Casualty_class&#x27;, &#x27;Sex_of_casualty&#x27;, &#x27;Road_surface_conditions&#x27;, &#x27;Sex_of_driver&#x27;, &#x27;Vehicle_movement&#x27;, &#x27;Types_of_Junction&#x27;, &#x27;Type_of_vehicle&#x27;, &#x27;Vehicle_driver_relation&#x27;, &#x27;Light_conditions&#x27;, &#x27;Educational_level&#x27;, &#x27;Road_allignment&#x27;, &#x27;Cause_of_accident&#x27;, &#x27;Fitness_of_casuality&#x27;, &#x27;Road_surface_type&#x27;, &#x27;Owner_of_vehicle&#x27;, &#x27;Lanes_or_Medians&#x27;, &#x27;Area_accident_occured&#x27;]</pre></div></div></div><div class=\"sk-serial\"><div class=\"sk-item\"><div class=\"sk-estimator sk-toggleable\"><input class=\"sk-toggleable__control sk-hidden--visually\" id=\"167e555d-a8ae-43fd-aa20-f1a5d9ff7d95\" type=\"checkbox\" ><label for=\"167e555d-a8ae-43fd-aa20-f1a5d9ff7d95\" class=\"sk-toggleable__label sk-toggleable__label-arrow\">OneHotEncoder</label><div class=\"sk-toggleable__content\"><pre>OneHotEncoder(handle_unknown=&#x27;ignore&#x27;, sparse=False)</pre></div></div></div></div></div></div></div></div><div class=\"sk-item\"><div class=\"sk-estimator sk-toggleable\"><input class=\"sk-toggleable__control sk-hidden--visually\" id=\"585dfc8d-aa33-4318-9cdd-248c02f96b7b\" type=\"checkbox\" ><label for=\"585dfc8d-aa33-4318-9cdd-248c02f96b7b\" class=\"sk-toggleable__label sk-toggleable__label-arrow\">SelectKBest</label><div class=\"sk-toggleable__content\"><pre>SelectKBest(k=21)</pre></div></div></div><div class=\"sk-item\"><div class=\"sk-estimator sk-toggleable\"><input class=\"sk-toggleable__control sk-hidden--visually\" id=\"8b80591f-1120-4641-a829-9792abc8273d\" type=\"checkbox\" ><label for=\"8b80591f-1120-4641-a829-9792abc8273d\" class=\"sk-toggleable__label sk-toggleable__label-arrow\">LogisticRegression</label><div class=\"sk-toggleable__content\"><pre>LogisticRegression(max_iter=1000, multi_class=&#x27;multinomial&#x27;)</pre></div></div></div></div></div></div></div>"
      ],
      "text/plain": [
       "Pipeline(steps=[('preprocess',\n",
       "                 FunctionTransformer(func=<function preprocess at 0x000002339AC13160>)),\n",
       "                ('encoder',\n",
       "                 FunctionTransformer(func=<function encode at 0x000002339BDDAB80>,\n",
       "                                     kw_args={'encoder': OrdinalEncoder()})),\n",
       "                ('impute',\n",
       "                 FunctionTransformer(func=<function impute at 0x000002339BE773A0>,\n",
       "                                     kw_args={'imputer': KNNImputer()})),\n",
       "                ('ohe',\n",
       "                 ColumnTransformer(transfor...\n",
       "                                                   'Types_of_Junction',\n",
       "                                                   'Type_of_vehicle',\n",
       "                                                   'Vehicle_driver_relation',\n",
       "                                                   'Light_conditions',\n",
       "                                                   'Educational_level',\n",
       "                                                   'Road_allignment',\n",
       "                                                   'Cause_of_accident',\n",
       "                                                   'Fitness_of_casuality',\n",
       "                                                   'Road_surface_type',\n",
       "                                                   'Owner_of_vehicle',\n",
       "                                                   'Lanes_or_Medians',\n",
       "                                                   'Area_accident_occured'])])),\n",
       "                ('k_best', SelectKBest(k=21)),\n",
       "                ('model',\n",
       "                 LogisticRegression(max_iter=1000, multi_class='multinomial'))])"
      ]
     },
     "execution_count": 8,
     "metadata": {},
     "output_type": "execute_result"
    }
   ],
   "source": [
    "main_pipe_k_best.fit(X_train, y_train)"
   ]
  },
  {
   "cell_type": "code",
   "execution_count": 9,
   "id": "85ed0323",
   "metadata": {},
   "outputs": [],
   "source": [
    "y_pred_1 = main_pipe_k_best.predict(X_test)"
   ]
  },
  {
   "cell_type": "code",
   "execution_count": 17,
   "id": "d872f863",
   "metadata": {},
   "outputs": [],
   "source": [
    "from sklearn.metrics import recall_score, f1_score, accuracy_score, precision_score\n",
    "from sklearn.metrics import ConfusionMatrixDisplay, classification_report"
   ]
  },
  {
   "cell_type": "code",
   "execution_count": 11,
   "id": "4aa99c66",
   "metadata": {},
   "outputs": [
    {
     "data": {
      "text/plain": [
       "0.8454668470906631"
      ]
     },
     "execution_count": 11,
     "metadata": {},
     "output_type": "execute_result"
    }
   ],
   "source": [
    "accuracy_score(y_test, y_pred_1)"
   ]
  },
  {
   "cell_type": "code",
   "execution_count": 12,
   "id": "8427c267",
   "metadata": {},
   "outputs": [
    {
     "data": {
      "image/png": "[encoded data removed]",
      "text/plain": [
       "<Figure size 432x288 with 2 Axes>"
      ]
     },
     "metadata": {
      "needs_background": "light"
     },
     "output_type": "display_data"
    }
   ],
   "source": [
    "ConfusionMatrixDisplay.from_predictions(y_test, y_pred_1);"
   ]
  },
  {
   "cell_type": "code",
   "execution_count": 24,
   "id": "31d51c6e",
   "metadata": {},
   "outputs": [],
   "source": [
    "classification_report(y_test, y_pred_1, zero_division=1);"
   ]
  },
  {
   "cell_type": "code",
   "execution_count": 13,
   "id": "592c4cb9",
   "metadata": {},
   "outputs": [
    {
     "data": {
      "text/html": [
       "<style>#sk-ddda131c-f414-4fc3-8a0f-9ecbf8fe3dec {color: black;background-color: white;}#sk-ddda131c-f414-4fc3-8a0f-9ecbf8fe3dec pre{padding: 0;}#sk-ddda131c-f414-4fc3-8a0f-9ecbf8fe3dec div.sk-toggleable {background-color: white;}#sk-ddda131c-f414-4fc3-8a0f-9ecbf8fe3dec label.sk-toggleable__label {cursor: pointer;display: block;width: 100%;margin-bottom: 0;padding: 0.3em;box-sizing: border-box;text-align: center;}#sk-ddda131c-f414-4fc3-8a0f-9ecbf8fe3dec label.sk-toggleable__label-arrow:before {content: \"▸\";float: left;margin-right: 0.25em;color: #696969;}#sk-ddda131c-f414-4fc3-8a0f-9ecbf8fe3dec label.sk-toggleable__label-arrow:hover:before {color: black;}#sk-ddda131c-f414-4fc3-8a0f-9ecbf8fe3dec div.sk-estimator:hover label.sk-toggleable__label-arrow:before {color: black;}#sk-ddda131c-f414-4fc3-8a0f-9ecbf8fe3dec div.sk-toggleable__content {max-height: 0;max-width: 0;overflow: hidden;text-align: left;background-color: #f0f8ff;}#sk-ddda131c-f414-4fc3-8a0f-9ecbf8fe3dec div.sk-toggleable__content pre {margin: 0.2em;color: black;border-radius: 0.25em;background-color: #f0f8ff;}#sk-ddda131c-f414-4fc3-8a0f-9ecbf8fe3dec input.sk-toggleable__control:checked~div.sk-toggleable__content {max-height: 200px;max-width: 100%;overflow: auto;}#sk-ddda131c-f414-4fc3-8a0f-9ecbf8fe3dec input.sk-toggleable__control:checked~label.sk-toggleable__label-arrow:before {content: \"▾\";}#sk-ddda131c-f414-4fc3-8a0f-9ecbf8fe3dec div.sk-estimator input.sk-toggleable__control:checked~label.sk-toggleable__label {background-color: #d4ebff;}#sk-ddda131c-f414-4fc3-8a0f-9ecbf8fe3dec div.sk-label input.sk-toggleable__control:checked~label.sk-toggleable__label {background-color: #d4ebff;}#sk-ddda131c-f414-4fc3-8a0f-9ecbf8fe3dec input.sk-hidden--visually {border: 0;clip: rect(1px 1px 1px 1px);clip: rect(1px, 1px, 1px, 1px);height: 1px;margin: -1px;overflow: hidden;padding: 0;position: absolute;width: 1px;}#sk-ddda131c-f414-4fc3-8a0f-9ecbf8fe3dec div.sk-estimator {font-family: monospace;background-color: #f0f8ff;border: 1px dotted black;border-radius: 0.25em;box-sizing: border-box;margin-bottom: 0.5em;}#sk-ddda131c-f414-4fc3-8a0f-9ecbf8fe3dec div.sk-estimator:hover {background-color: #d4ebff;}#sk-ddda131c-f414-4fc3-8a0f-9ecbf8fe3dec div.sk-parallel-item::after {content: \"\";width: 100%;border-bottom: 1px solid gray;flex-grow: 1;}#sk-ddda131c-f414-4fc3-8a0f-9ecbf8fe3dec div.sk-label:hover label.sk-toggleable__label {background-color: #d4ebff;}#sk-ddda131c-f414-4fc3-8a0f-9ecbf8fe3dec div.sk-serial::before {content: \"\";position: absolute;border-left: 1px solid gray;box-sizing: border-box;top: 2em;bottom: 0;left: 50%;}#sk-ddda131c-f414-4fc3-8a0f-9ecbf8fe3dec div.sk-serial {display: flex;flex-direction: column;align-items: center;background-color: white;padding-right: 0.2em;padding-left: 0.2em;}#sk-ddda131c-f414-4fc3-8a0f-9ecbf8fe3dec div.sk-item {z-index: 1;}#sk-ddda131c-f414-4fc3-8a0f-9ecbf8fe3dec div.sk-parallel {display: flex;align-items: stretch;justify-content: center;background-color: white;}#sk-ddda131c-f414-4fc3-8a0f-9ecbf8fe3dec div.sk-parallel::before {content: \"\";position: absolute;border-left: 1px solid gray;box-sizing: border-box;top: 2em;bottom: 0;left: 50%;}#sk-ddda131c-f414-4fc3-8a0f-9ecbf8fe3dec div.sk-parallel-item {display: flex;flex-direction: column;position: relative;background-color: white;}#sk-ddda131c-f414-4fc3-8a0f-9ecbf8fe3dec div.sk-parallel-item:first-child::after {align-self: flex-end;width: 50%;}#sk-ddda131c-f414-4fc3-8a0f-9ecbf8fe3dec div.sk-parallel-item:last-child::after {align-self: flex-start;width: 50%;}#sk-ddda131c-f414-4fc3-8a0f-9ecbf8fe3dec div.sk-parallel-item:only-child::after {width: 0;}#sk-ddda131c-f414-4fc3-8a0f-9ecbf8fe3dec div.sk-dashed-wrapped {border: 1px dashed gray;margin: 0 0.4em 0.5em 0.4em;box-sizing: border-box;padding-bottom: 0.4em;background-color: white;position: relative;}#sk-ddda131c-f414-4fc3-8a0f-9ecbf8fe3dec div.sk-label label {font-family: monospace;font-weight: bold;background-color: white;display: inline-block;line-height: 1.2em;}#sk-ddda131c-f414-4fc3-8a0f-9ecbf8fe3dec div.sk-label-container {position: relative;z-index: 2;text-align: center;}#sk-ddda131c-f414-4fc3-8a0f-9ecbf8fe3dec div.sk-container {/* jupyter's `normalize.less` sets `[hidden] { display: none; }` but bootstrap.min.css set `[hidden] { display: none !important; }` so we also need the `!important` here to be able to override the default hidden behavior on the sphinx rendered scikit-learn.org. See: https://github.com/scikit-learn/scikit-learn/issues/21755 */display: inline-block !important;position: relative;}#sk-ddda131c-f414-4fc3-8a0f-9ecbf8fe3dec div.sk-text-repr-fallback {display: none;}</style><div id=\"sk-ddda131c-f414-4fc3-8a0f-9ecbf8fe3dec\" class=\"sk-top-container\"><div class=\"sk-text-repr-fallback\"><pre>Pipeline(steps=[(&#x27;preprocess&#x27;,\n",
       "                 FunctionTransformer(func=&lt;function preprocess at 0x000002339AC13160&gt;)),\n",
       "                (&#x27;encoder&#x27;,\n",
       "                 FunctionTransformer(func=&lt;function encode at 0x000002339BDDAB80&gt;,\n",
       "                                     kw_args={&#x27;encoder&#x27;: OrdinalEncoder()})),\n",
       "                (&#x27;impute&#x27;,\n",
       "                 FunctionTransformer(func=&lt;function impute at 0x000002339BE773A0&gt;,\n",
       "                                     kw_args={&#x27;imputer&#x27;: KNNImputer()})),\n",
       "                (&#x27;ohe&#x27;,\n",
       "                 ColumnTransformer(transfor...\n",
       "                                                   &#x27;Types_of_Junction&#x27;,\n",
       "                                                   &#x27;Type_of_vehicle&#x27;,\n",
       "                                                   &#x27;Vehicle_driver_relation&#x27;,\n",
       "                                                   &#x27;Light_conditions&#x27;,\n",
       "                                                   &#x27;Educational_level&#x27;,\n",
       "                                                   &#x27;Road_allignment&#x27;,\n",
       "                                                   &#x27;Cause_of_accident&#x27;,\n",
       "                                                   &#x27;Fitness_of_casuality&#x27;,\n",
       "                                                   &#x27;Road_surface_type&#x27;,\n",
       "                                                   &#x27;Owner_of_vehicle&#x27;,\n",
       "                                                   &#x27;Lanes_or_Medians&#x27;,\n",
       "                                                   &#x27;Area_accident_occured&#x27;])])),\n",
       "                (&#x27;pca&#x27;, PCA(n_components=21)),\n",
       "                (&#x27;model&#x27;,\n",
       "                 LogisticRegression(max_iter=1000, multi_class=&#x27;multinomial&#x27;))])</pre><b>Please rerun this cell to show the HTML repr or trust the notebook.</b></div><div class=\"sk-container\" hidden><div class=\"sk-item sk-dashed-wrapped\"><div class=\"sk-label-container\"><div class=\"sk-label sk-toggleable\"><input class=\"sk-toggleable__control sk-hidden--visually\" id=\"e48cf28f-dfac-4ac4-a767-552027e86f7f\" type=\"checkbox\" ><label for=\"e48cf28f-dfac-4ac4-a767-552027e86f7f\" class=\"sk-toggleable__label sk-toggleable__label-arrow\">Pipeline</label><div class=\"sk-toggleable__content\"><pre>Pipeline(steps=[(&#x27;preprocess&#x27;,\n",
       "                 FunctionTransformer(func=&lt;function preprocess at 0x000002339AC13160&gt;)),\n",
       "                (&#x27;encoder&#x27;,\n",
       "                 FunctionTransformer(func=&lt;function encode at 0x000002339BDDAB80&gt;,\n",
       "                                     kw_args={&#x27;encoder&#x27;: OrdinalEncoder()})),\n",
       "                (&#x27;impute&#x27;,\n",
       "                 FunctionTransformer(func=&lt;function impute at 0x000002339BE773A0&gt;,\n",
       "                                     kw_args={&#x27;imputer&#x27;: KNNImputer()})),\n",
       "                (&#x27;ohe&#x27;,\n",
       "                 ColumnTransformer(transfor...\n",
       "                                                   &#x27;Types_of_Junction&#x27;,\n",
       "                                                   &#x27;Type_of_vehicle&#x27;,\n",
       "                                                   &#x27;Vehicle_driver_relation&#x27;,\n",
       "                                                   &#x27;Light_conditions&#x27;,\n",
       "                                                   &#x27;Educational_level&#x27;,\n",
       "                                                   &#x27;Road_allignment&#x27;,\n",
       "                                                   &#x27;Cause_of_accident&#x27;,\n",
       "                                                   &#x27;Fitness_of_casuality&#x27;,\n",
       "                                                   &#x27;Road_surface_type&#x27;,\n",
       "                                                   &#x27;Owner_of_vehicle&#x27;,\n",
       "                                                   &#x27;Lanes_or_Medians&#x27;,\n",
       "                                                   &#x27;Area_accident_occured&#x27;])])),\n",
       "                (&#x27;pca&#x27;, PCA(n_components=21)),\n",
       "                (&#x27;model&#x27;,\n",
       "                 LogisticRegression(max_iter=1000, multi_class=&#x27;multinomial&#x27;))])</pre></div></div></div><div class=\"sk-serial\"><div class=\"sk-item\"><div class=\"sk-estimator sk-toggleable\"><input class=\"sk-toggleable__control sk-hidden--visually\" id=\"08053071-ef43-48e8-b894-46975021db65\" type=\"checkbox\" ><label for=\"08053071-ef43-48e8-b894-46975021db65\" class=\"sk-toggleable__label sk-toggleable__label-arrow\">FunctionTransformer</label><div class=\"sk-toggleable__content\"><pre>FunctionTransformer(func=&lt;function preprocess at 0x000002339AC13160&gt;)</pre></div></div></div><div class=\"sk-item\"><div class=\"sk-estimator sk-toggleable\"><input class=\"sk-toggleable__control sk-hidden--visually\" id=\"73a08ae2-9dbc-4431-ba87-f9f4de3f78ba\" type=\"checkbox\" ><label for=\"73a08ae2-9dbc-4431-ba87-f9f4de3f78ba\" class=\"sk-toggleable__label sk-toggleable__label-arrow\">FunctionTransformer</label><div class=\"sk-toggleable__content\"><pre>FunctionTransformer(func=&lt;function encode at 0x000002339BDDAB80&gt;,\n",
       "                    kw_args={&#x27;encoder&#x27;: OrdinalEncoder()})</pre></div></div></div><div class=\"sk-item\"><div class=\"sk-estimator sk-toggleable\"><input class=\"sk-toggleable__control sk-hidden--visually\" id=\"f3251e21-cf87-4bfa-bce8-85e7fd4b9d71\" type=\"checkbox\" ><label for=\"f3251e21-cf87-4bfa-bce8-85e7fd4b9d71\" class=\"sk-toggleable__label sk-toggleable__label-arrow\">FunctionTransformer</label><div class=\"sk-toggleable__content\"><pre>FunctionTransformer(func=&lt;function impute at 0x000002339BE773A0&gt;,\n",
       "                    kw_args={&#x27;imputer&#x27;: KNNImputer()})</pre></div></div></div><div class=\"sk-item sk-dashed-wrapped\"><div class=\"sk-label-container\"><div class=\"sk-label sk-toggleable\"><input class=\"sk-toggleable__control sk-hidden--visually\" id=\"619b3741-89bf-4ea7-b27b-df138e114514\" type=\"checkbox\" ><label for=\"619b3741-89bf-4ea7-b27b-df138e114514\" class=\"sk-toggleable__label sk-toggleable__label-arrow\">ohe: ColumnTransformer</label><div class=\"sk-toggleable__content\"><pre>ColumnTransformer(transformers=[(&#x27;onehotencoder&#x27;,\n",
       "                                 OneHotEncoder(handle_unknown=&#x27;ignore&#x27;,\n",
       "                                               sparse=False),\n",
       "                                 [&#x27;Type_of_collision&#x27;, &#x27;Pedestrian_movement&#x27;,\n",
       "                                  &#x27;Weather_conditions&#x27;, &#x27;Casualty_class&#x27;,\n",
       "                                  &#x27;Sex_of_casualty&#x27;, &#x27;Road_surface_conditions&#x27;,\n",
       "                                  &#x27;Sex_of_driver&#x27;, &#x27;Vehicle_movement&#x27;,\n",
       "                                  &#x27;Types_of_Junction&#x27;, &#x27;Type_of_vehicle&#x27;,\n",
       "                                  &#x27;Vehicle_driver_relation&#x27;, &#x27;Light_conditions&#x27;,\n",
       "                                  &#x27;Educational_level&#x27;, &#x27;Road_allignment&#x27;,\n",
       "                                  &#x27;Cause_of_accident&#x27;, &#x27;Fitness_of_casuality&#x27;,\n",
       "                                  &#x27;Road_surface_type&#x27;, &#x27;Owner_of_vehicle&#x27;,\n",
       "                                  &#x27;Lanes_or_Medians&#x27;,\n",
       "                                  &#x27;Area_accident_occured&#x27;])])</pre></div></div></div><div class=\"sk-parallel\"><div class=\"sk-parallel-item\"><div class=\"sk-item\"><div class=\"sk-label-container\"><div class=\"sk-label sk-toggleable\"><input class=\"sk-toggleable__control sk-hidden--visually\" id=\"cdaf55f5-b219-4a08-9ff4-caa877778dd2\" type=\"checkbox\" ><label for=\"cdaf55f5-b219-4a08-9ff4-caa877778dd2\" class=\"sk-toggleable__label sk-toggleable__label-arrow\">onehotencoder</label><div class=\"sk-toggleable__content\"><pre>[&#x27;Type_of_collision&#x27;, &#x27;Pedestrian_movement&#x27;, &#x27;Weather_conditions&#x27;, &#x27;Casualty_class&#x27;, &#x27;Sex_of_casualty&#x27;, &#x27;Road_surface_conditions&#x27;, &#x27;Sex_of_driver&#x27;, &#x27;Vehicle_movement&#x27;, &#x27;Types_of_Junction&#x27;, &#x27;Type_of_vehicle&#x27;, &#x27;Vehicle_driver_relation&#x27;, &#x27;Light_conditions&#x27;, &#x27;Educational_level&#x27;, &#x27;Road_allignment&#x27;, &#x27;Cause_of_accident&#x27;, &#x27;Fitness_of_casuality&#x27;, &#x27;Road_surface_type&#x27;, &#x27;Owner_of_vehicle&#x27;, &#x27;Lanes_or_Medians&#x27;, &#x27;Area_accident_occured&#x27;]</pre></div></div></div><div class=\"sk-serial\"><div class=\"sk-item\"><div class=\"sk-estimator sk-toggleable\"><input class=\"sk-toggleable__control sk-hidden--visually\" id=\"602dc4c0-e005-4344-9e61-dbd79adb4733\" type=\"checkbox\" ><label for=\"602dc4c0-e005-4344-9e61-dbd79adb4733\" class=\"sk-toggleable__label sk-toggleable__label-arrow\">OneHotEncoder</label><div class=\"sk-toggleable__content\"><pre>OneHotEncoder(handle_unknown=&#x27;ignore&#x27;, sparse=False)</pre></div></div></div></div></div></div></div></div><div class=\"sk-item\"><div class=\"sk-estimator sk-toggleable\"><input class=\"sk-toggleable__control sk-hidden--visually\" id=\"7252ea5d-17a9-449c-9b22-eccd4896c8f4\" type=\"checkbox\" ><label for=\"7252ea5d-17a9-449c-9b22-eccd4896c8f4\" class=\"sk-toggleable__label sk-toggleable__label-arrow\">PCA</label><div class=\"sk-toggleable__content\"><pre>PCA(n_components=21)</pre></div></div></div><div class=\"sk-item\"><div class=\"sk-estimator sk-toggleable\"><input class=\"sk-toggleable__control sk-hidden--visually\" id=\"814ae102-0957-4fca-b491-5e68d7d2c157\" type=\"checkbox\" ><label for=\"814ae102-0957-4fca-b491-5e68d7d2c157\" class=\"sk-toggleable__label sk-toggleable__label-arrow\">LogisticRegression</label><div class=\"sk-toggleable__content\"><pre>LogisticRegression(max_iter=1000, multi_class=&#x27;multinomial&#x27;)</pre></div></div></div></div></div></div></div>"
      ],
      "text/plain": [
       "Pipeline(steps=[('preprocess',\n",
       "                 FunctionTransformer(func=<function preprocess at 0x000002339AC13160>)),\n",
       "                ('encoder',\n",
       "                 FunctionTransformer(func=<function encode at 0x000002339BDDAB80>,\n",
       "                                     kw_args={'encoder': OrdinalEncoder()})),\n",
       "                ('impute',\n",
       "                 FunctionTransformer(func=<function impute at 0x000002339BE773A0>,\n",
       "                                     kw_args={'imputer': KNNImputer()})),\n",
       "                ('ohe',\n",
       "                 ColumnTransformer(transfor...\n",
       "                                                   'Types_of_Junction',\n",
       "                                                   'Type_of_vehicle',\n",
       "                                                   'Vehicle_driver_relation',\n",
       "                                                   'Light_conditions',\n",
       "                                                   'Educational_level',\n",
       "                                                   'Road_allignment',\n",
       "                                                   'Cause_of_accident',\n",
       "                                                   'Fitness_of_casuality',\n",
       "                                                   'Road_surface_type',\n",
       "                                                   'Owner_of_vehicle',\n",
       "                                                   'Lanes_or_Medians',\n",
       "                                                   'Area_accident_occured'])])),\n",
       "                ('pca', PCA(n_components=21)),\n",
       "                ('model',\n",
       "                 LogisticRegression(max_iter=1000, multi_class='multinomial'))])"
      ]
     },
     "execution_count": 13,
     "metadata": {},
     "output_type": "execute_result"
    }
   ],
   "source": [
    "main_pipe_pca.fit(X_train, y_train)"
   ]
  },
  {
   "cell_type": "code",
   "execution_count": 14,
   "id": "9d5225af",
   "metadata": {},
   "outputs": [],
   "source": [
    "y_pred_2 = main_pipe_pca.predict(X_test)"
   ]
  },
  {
   "cell_type": "code",
   "execution_count": 15,
   "id": "b06b7024",
   "metadata": {},
   "outputs": [
    {
     "data": {
      "text/plain": [
       "0.8457374830852503"
      ]
     },
     "execution_count": 15,
     "metadata": {},
     "output_type": "execute_result"
    }
   ],
   "source": [
    "accuracy_score(y_test, y_pred_2)"
   ]
  },
  {
   "cell_type": "code",
   "execution_count": 16,
   "id": "023e9174",
   "metadata": {},
   "outputs": [
    {
     "data": {
      "image/png": "[encoded data removed]",
      "text/plain": [
       "<Figure size 432x288 with 2 Axes>"
      ]
     },
     "metadata": {
      "needs_background": "light"
     },
     "output_type": "display_data"
    }
   ],
   "source": [
    "ConfusionMatrixDisplay.from_predictions(y_test, y_pred_2);"
   ]
  },
  {
   "cell_type": "code",
   "execution_count": null,
   "id": "b1df24f9",
   "metadata": {},
   "outputs": [],
   "source": []
  }
 ],
 "metadata": {
  "kernelspec": {
   "display_name": "Python 3 (ipykernel)",
   "language": "python",
   "name": "python3"
  },
  "language_info": {
   "codemirror_mode": {
    "name": "ipython",
    "version": 3
   },
   "file_extension": ".py",
   "mimetype": "text/x-python",
   "name": "python",
   "nbconvert_exporter": "python",
   "pygments_lexer": "ipython3",
   "version": "3.9.7"
  }
 },
 "nbformat": 4,
 "nbformat_minor": 5
}
