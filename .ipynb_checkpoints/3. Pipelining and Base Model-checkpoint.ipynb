{
 "cells": [
  {
   "cell_type": "markdown",
   "id": "598873d4",
   "metadata": {},
   "source": [
    "# 3. Pipelining and Base Model"
   ]
  },
  {
   "cell_type": "code",
   "execution_count": 1,
   "id": "ceff8d28",
   "metadata": {},
   "outputs": [],
   "source": [
    "import numpy as np\n",
    "import pandas as pd\n",
    "import help_functions as hf"
   ]
  },
  {
   "cell_type": "code",
   "execution_count": 2,
   "id": "5c683d80",
   "metadata": {},
   "outputs": [],
   "source": [
    "from sklearn.model_selection import train_test_split\n",
    "from sklearn.preprocessing import LabelEncoder\n",
    "\n",
    "df = pd.read_csv('RTA Dataset.csv')\n",
    "X = df.iloc[:, :-1]\n",
    "y = df.iloc[:, -1]\n",
    "\n",
    "X_train, X_test, y_train, y_test = train_test_split(X, y, test_size=0.3, stratify=y)\n",
    "\n",
    "le = LabelEncoder()\n",
    "y_train = le.fit_transform(y_train)\n",
    "y_test = le.transform(y_test)"
   ]
  },
  {
   "cell_type": "code",
   "execution_count": 3,
   "id": "d9c48914",
   "metadata": {},
   "outputs": [
    {
     "data": {
      "text/plain": [
       "array(['Fatal injury', 'Serious Injury', 'Slight Injury'], dtype=object)"
      ]
     },
     "execution_count": 3,
     "metadata": {},
     "output_type": "execute_result"
    }
   ],
   "source": [
    "le.classes_"
   ]
  },
  {
   "cell_type": "code",
   "execution_count": 4,
   "id": "ad0521e8",
   "metadata": {},
   "outputs": [],
   "source": [
    "from sklearn.preprocessing import OrdinalEncoder\n",
    "from sklearn.impute import KNNImputer\n",
    "from fancyimpute import KNN\n",
    "from sklearn.preprocessing import StandardScaler, OneHotEncoder, FunctionTransformer\n",
    "from sklearn.compose import make_column_transformer\n",
    "from sklearn.pipeline import Pipeline\n",
    "from imblearn.pipeline import Pipeline as imbpipeline\n",
    "from sklearn.feature_selection import SelectKBest, chi2, mutual_info_classif"
   ]
  },
  {
   "cell_type": "code",
   "execution_count": 5,
   "id": "1194ffa4",
   "metadata": {},
   "outputs": [],
   "source": [
    "from sklearn.base import BaseEstimator, TransformerMixin\n",
    "class ToDenseTransformer(BaseEstimator, TransformerMixin):\n",
    "    \n",
    "    # here you define the operation it should perform\n",
    "    def transform(self, X, y=None, **fit_params):\n",
    "        return X.todense()\n",
    "    \n",
    "    #just return self\n",
    "    def fit(self, X, y=None, **fit_params):\n",
    "        return self"
   ]
  },
  {
   "cell_type": "code",
   "execution_count": 6,
   "id": "e8b3ffc1",
   "metadata": {},
   "outputs": [],
   "source": [
    "oe = OrdinalEncoder()\n",
    "knn_imputer = KNNImputer()\n",
    "fancy_knn = KNN()\n",
    "preprocess = FunctionTransformer(hf.preprocess)\n",
    "encode = FunctionTransformer(hf.encode, kw_args={'encoder': oe})\n",
    "impute = FunctionTransformer(hf.impute, kw_args={'imputer': knn_imputer})\n",
    "ohe = OneHotEncoder(handle_unknown='ignore')"
   ]
  },
  {
   "cell_type": "code",
   "execution_count": 7,
   "id": "bec44a5b",
   "metadata": {},
   "outputs": [],
   "source": [
    "oh = make_column_transformer(\n",
    "    (ohe, hf.cat_col_without_order)\n",
    ")"
   ]
  },
  {
   "cell_type": "code",
   "execution_count": 8,
   "id": "11d073b2",
   "metadata": {},
   "outputs": [],
   "source": [
    "from imblearn.combine import SMOTEENN, SMOTETomek\n",
    "from imblearn.under_sampling import TomekLinks, ClusterCentroids\n",
    "from imblearn.over_sampling import SMOTE, SMOTEN"
   ]
  },
  {
   "cell_type": "code",
   "execution_count": 9,
   "id": "bff08110",
   "metadata": {},
   "outputs": [],
   "source": [
    "smote = SMOTE(sampling_strategy='minority', k_neighbors=20)\n",
    "smoten = SMOTEN(sampling_strategy='minority', k_neighbors=20)\n",
    "smote_enn = SMOTEENN(smote=smote)\n",
    "smote_tomek = SMOTETomek(smote=smote)\n",
    "tomek_links = TomekLinks(sampling_strategy='majority')\n",
    "cc = ClusterCentroids(sampling_strategy='not minority')\n",
    "\n",
    "k_best = SelectKBest(k=25, score_func=chi2)"
   ]
  },
  {
   "cell_type": "code",
   "execution_count": 10,
   "id": "56f9e7d9",
   "metadata": {},
   "outputs": [],
   "source": [
    "from sklearn.linear_model import LogisticRegression\n",
    "from sklearn.ensemble import RandomForestClassifier\n",
    "from imblearn.ensemble import BalancedRandomForestClassifier, EasyEnsembleClassifier\n",
    "\n",
    "base_model = LogisticRegression(multi_class='multinomial', max_iter=300)\n",
    "\n",
    "rfc = RandomForestClassifier(n_estimators=500, class_weight='balanced')\n",
    "brfc = BalancedRandomForestClassifier(n_estimators=100, class_weight=\"balanced\")\n",
    "eec = EasyEnsembleClassifier(n_estimators=100)"
   ]
  },
  {
   "cell_type": "code",
   "execution_count": 11,
   "id": "2cb1d28c",
   "metadata": {},
   "outputs": [],
   "source": [
    "main_pipe_k_best = imbpipeline([\n",
    "        ('preprocess', preprocess),                 \n",
    "        ('encoder', encode),        \n",
    "        ('impute', impute),\n",
    "        ('resample', smote),\n",
    "        ('ohe', oh), \n",
    "        ('k_best', k_best),\n",
    "        ('model', rfc),\n",
    "    ])"
   ]
  },
  {
   "cell_type": "code",
   "execution_count": 12,
   "id": "d2050ce4",
   "metadata": {},
   "outputs": [],
   "source": [
    "# from sklearn import set_config\n",
    "# set_config(display='diagram')\n",
    "\n",
    "# main_pipe_k_best"
   ]
  },
  {
   "cell_type": "code",
   "execution_count": 13,
   "id": "1215ed78",
   "metadata": {},
   "outputs": [],
   "source": [
    "main_pipe_k_best.fit(X_train, y_train);"
   ]
  },
  {
   "cell_type": "code",
   "execution_count": 14,
   "id": "fdf52ad7",
   "metadata": {},
   "outputs": [],
   "source": [
    "y_pred_1 = main_pipe_k_best.predict(X_test)"
   ]
  },
  {
   "cell_type": "code",
   "execution_count": 15,
   "id": "53858c51",
   "metadata": {},
   "outputs": [
    {
     "name": "stdout",
     "output_type": "stream",
     "text": [
      "              precision    recall  f1-score   support\n",
      "\n",
      "           0       0.03      0.09      0.04        47\n",
      "           1       0.17      0.09      0.12       523\n",
      "           2       0.85      0.89      0.87      3125\n",
      "\n",
      "    accuracy                           0.76      3695\n",
      "   macro avg       0.35      0.35      0.34      3695\n",
      "weighted avg       0.74      0.76      0.75      3695\n",
      "\n"
     ]
    }
   ],
   "source": [
    "from sklearn.metrics import ConfusionMatrixDisplay, classification_report, accuracy_score\n",
    "print(classification_report(y_test, y_pred_1, zero_division=0))"
   ]
  },
  {
   "cell_type": "code",
   "execution_count": 16,
   "id": "26e3f881",
   "metadata": {},
   "outputs": [
    {
     "data": {
      "image/png": "[encoded data removed]",
      "text/plain": [
       "<Figure size 432x288 with 2 Axes>"
      ]
     },
     "metadata": {
      "needs_background": "light"
     },
     "output_type": "display_data"
    }
   ],
   "source": [
    "ConfusionMatrixDisplay.from_predictions(y_test, y_pred_1);"
   ]
  },
  {
   "cell_type": "code",
   "execution_count": 17,
   "id": "b5b40428",
   "metadata": {},
   "outputs": [
    {
     "name": "stdout",
     "output_type": "stream",
     "text": [
      "Accuracy Score:  0.7629228687415426\n"
     ]
    }
   ],
   "source": [
    "print('Accuracy Score: ', accuracy_score(y_test, y_pred_1))"
   ]
  },
  {
   "cell_type": "code",
   "execution_count": 18,
   "id": "b6148c4e",
   "metadata": {},
   "outputs": [],
   "source": [
    "# from sklearn.decomposition import PCA\n",
    "# pca = PCA(n_components=20)\n",
    "\n",
    "# main_pipe_pca = imbpipeline([    \n",
    "#         ('preprocess', preprocess),                 \n",
    "#         ('encoder', encode),\n",
    "#         ('impute', impute),\n",
    "#         ('resample', smote),\n",
    "#         ('ohe', ohe),\n",
    "#         ('to_dense', ToDenseTransformer()),\n",
    "#         ('pca', pca),\n",
    "#         ('model', rfc),\n",
    "#     ])\n",
    "\n",
    "# main_pipe_pca.fit(X_train, y_train)\n",
    "# y_pred_2 = main_pipe_pca.predict(X_test)"
   ]
  },
  {
   "cell_type": "code",
   "execution_count": 19,
   "id": "505774a2",
   "metadata": {},
   "outputs": [],
   "source": [
    "# print(classification_report(y_test, y_pred_2))"
   ]
  },
  {
   "cell_type": "code",
   "execution_count": 20,
   "id": "e7e7ff17",
   "metadata": {},
   "outputs": [],
   "source": [
    "# ConfusionMatrixDisplay.from_predictions(y_test, y_pred_2);"
   ]
  },
  {
   "cell_type": "code",
   "execution_count": 21,
   "id": "ae7932c9",
   "metadata": {},
   "outputs": [],
   "source": [
    "# print('Accuracy Score: ', accuracy_score(y_test, y_pred_2))"
   ]
  }
 ],
 "metadata": {
  "kernelspec": {
   "display_name": "Python 3 (ipykernel)",
   "language": "python",
   "name": "python3"
  },
  "language_info": {
   "codemirror_mode": {
    "name": "ipython",
    "version": 3
   },
   "file_extension": ".py",
   "mimetype": "text/x-python",
   "name": "python",
   "nbconvert_exporter": "python",
   "pygments_lexer": "ipython3",
   "version": "3.9.7"
  }
 },
 "nbformat": 4,
 "nbformat_minor": 5
}
