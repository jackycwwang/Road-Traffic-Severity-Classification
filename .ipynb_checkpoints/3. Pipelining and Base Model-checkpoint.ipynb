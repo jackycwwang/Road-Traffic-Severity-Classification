{
 "cells": [
  {
   "cell_type": "markdown",
   "id": "2238ac9e",
   "metadata": {},
   "source": [
    "# Pipelining and Base Model"
   ]
  },
  {
   "cell_type": "code",
   "execution_count": 1,
   "id": "b22c13f6",
   "metadata": {},
   "outputs": [],
   "source": [
    "import numpy as np\n",
    "import pandas as pd\n",
    "import help_functions as hf"
   ]
  },
  {
   "cell_type": "code",
   "execution_count": 2,
   "id": "faec3158",
   "metadata": {},
   "outputs": [],
   "source": [
    "from sklearn.model_selection import train_test_split\n",
    "from sklearn.preprocessing import LabelEncoder\n",
    "\n",
    "df = pd.read_csv('RTA Dataset.csv')\n",
    "X = df.iloc[:, :-1]\n",
    "y = df.iloc[:, -1]\n",
    "\n",
    "X_train, X_test, y_train, y_test = train_test_split(X, y, test_size=0.3, stratify=y)\n",
    "\n",
    "le = LabelEncoder()\n",
    "y_train = le.fit_transform(y_train)\n",
    "y_test = le.transform(y_test)"
   ]
  },
  {
   "cell_type": "code",
   "execution_count": 3,
   "id": "4642537e",
   "metadata": {},
   "outputs": [
    {
     "data": {
      "text/plain": [
       "array(['Fatal injury', 'Serious Injury', 'Slight Injury'], dtype=object)"
      ]
     },
     "execution_count": 3,
     "metadata": {},
     "output_type": "execute_result"
    }
   ],
   "source": [
    "le.classes_"
   ]
  },
  {
   "cell_type": "code",
   "execution_count": 4,
   "id": "7a8f7186",
   "metadata": {},
   "outputs": [],
   "source": [
    "from sklearn.preprocessing import OrdinalEncoder\n",
    "from sklearn.impute import KNNImputer\n",
    "from fancyimpute import KNN\n",
    "from sklearn.preprocessing import StandardScaler, OneHotEncoder, FunctionTransformer\n",
    "from sklearn.compose import make_column_transformer\n",
    "from sklearn.pipeline import Pipeline\n",
    "from imblearn.pipeline import Pipeline as imbpipeline\n",
    "from sklearn.feature_selection import SelectKBest, chi2, f_classif, mutual_info_classif\n",
    "from sklearn.decomposition import PCA"
   ]
  },
  {
   "cell_type": "code",
   "execution_count": 5,
   "id": "a996ab23",
   "metadata": {},
   "outputs": [],
   "source": [
    "from sklearn.base import BaseEstimator, TransformerMixin\n",
    "class ToDenseTransformer(BaseEstimator, TransformerMixin):\n",
    "    \n",
    "    # here you define the operation it should perform\n",
    "    def transform(self, X, y=None, **fit_params):\n",
    "        return X.todense()\n",
    "    \n",
    "    #just return self\n",
    "    def fit(self, X, y=None, **fit_params):\n",
    "        return self"
   ]
  },
  {
   "cell_type": "code",
   "execution_count": 6,
   "id": "2338e24c",
   "metadata": {},
   "outputs": [],
   "source": [
    "oe = OrdinalEncoder()\n",
    "knn_imputer = KNNImputer()\n",
    "fancy_knn = KNN()\n",
    "preprocess = FunctionTransformer(hf.preprocess)\n",
    "encode = FunctionTransformer(hf.encode, kw_args={'encoder': oe})\n",
    "impute = FunctionTransformer(hf.impute, kw_args={'imputer': knn_imputer})\n",
    "ohe = OneHotEncoder(handle_unknown='ignore')"
   ]
  },
  {
   "cell_type": "code",
   "execution_count": 7,
   "id": "fcac401b",
   "metadata": {},
   "outputs": [],
   "source": [
    "oh = make_column_transformer(\n",
    "    (ohe, hf.cat_col_without_order)\n",
    ")"
   ]
  },
  {
   "cell_type": "code",
   "execution_count": 8,
   "id": "a99480b7",
   "metadata": {},
   "outputs": [],
   "source": [
    "from imblearn.combine import SMOTEENN, SMOTETomek\n",
    "from imblearn.under_sampling import TomekLinks, ClusterCentroids\n",
    "from imblearn.over_sampling import SMOTE, SMOTEN"
   ]
  },
  {
   "cell_type": "code",
   "execution_count": 9,
   "id": "6d39cdcd",
   "metadata": {},
   "outputs": [],
   "source": [
    "smote = SMOTE(sampling_strategy='minority', k_neighbors=15)\n",
    "smoten = SMOTEN(sampling_strategy='minority', k_neighbors=15)\n",
    "smote_enn = SMOTEENN(smote=smote)\n",
    "smote_tomek = SMOTETomek(smote=smote)\n",
    "tomek_links = TomekLinks(sampling_strategy='majority')\n",
    "cc = ClusterCentroids(sampling_strategy='not minority')\n",
    "\n",
    "\n",
    "k_best = SelectKBest(k=25, score_func=chi2)\n",
    "\n"
   ]
  },
  {
   "cell_type": "code",
   "execution_count": 10,
   "id": "d7d49ef9",
   "metadata": {},
   "outputs": [],
   "source": [
    "from sklearn.linear_model import LogisticRegression\n",
    "from sklearn.ensemble import RandomForestClassifier\n",
    "from imblearn.ensemble import BalancedRandomForestClassifier, EasyEnsembleClassifier\n",
    "\n",
    "# weights = {0:10, 1:7, 2:2}\n",
    "base_model = LogisticRegression(multi_class='multinomial', max_iter=300)\n",
    "rfc = RandomForestClassifier(n_estimators=500 , class_weight='balanced')\n",
    "brfc = BalancedRandomForestClassifier(n_estimators=100, class_weight=\"balanced\")\n",
    "eec = EasyEnsembleClassifier(n_estimators=100)"
   ]
  },
  {
   "cell_type": "code",
   "execution_count": 11,
   "id": "723485c8",
   "metadata": {},
   "outputs": [],
   "source": [
    "main_pipe_k_best = imbpipeline([\n",
    "        ('preprocess', preprocess),                 \n",
    "        ('encoder', encode),        \n",
    "        ('impute', impute),\n",
    "        ('resample', smote),\n",
    "        ('ohe', oh), \n",
    "        ('k_best', k_best),\n",
    "        ('model', rfc),\n",
    "    ])"
   ]
  },
  {
   "cell_type": "code",
   "execution_count": 12,
   "id": "2e843070",
   "metadata": {},
   "outputs": [],
   "source": [
    "# from sklearn import set_config\n",
    "# set_config(display='diagram')\n",
    "\n",
    "# main_pipe_k_best"
   ]
  },
  {
   "cell_type": "code",
   "execution_count": null,
   "id": "bb7a19d6",
   "metadata": {},
   "outputs": [],
   "source": [
    "main_pipe_k_best.fit(X_train, y_train);"
   ]
  },
  {
   "cell_type": "code",
   "execution_count": null,
   "id": "7ba169d8",
   "metadata": {},
   "outputs": [],
   "source": [
    "y_pred_1 = main_pipe_k_best.predict(X_test)"
   ]
  },
  {
   "cell_type": "code",
   "execution_count": null,
   "id": "28a537af",
   "metadata": {},
   "outputs": [],
   "source": [
    "from sklearn.metrics import ConfusionMatrixDisplay, classification_report, accuracy_score\n",
    "print(classification_report(y_test, y_pred_1, zero_division=0))"
   ]
  },
  {
   "cell_type": "code",
   "execution_count": null,
   "id": "1a9eb4a8",
   "metadata": {},
   "outputs": [],
   "source": [
    "ConfusionMatrixDisplay.from_predictions(y_test, y_pred_1);"
   ]
  },
  {
   "cell_type": "code",
   "execution_count": null,
   "id": "cdbdbe2d",
   "metadata": {},
   "outputs": [],
   "source": [
    "print('Accuracy Score: ', accuracy_score(y_test, y_pred_1))"
   ]
  },
  {
   "cell_type": "code",
   "execution_count": null,
   "id": "4ddbb87d",
   "metadata": {},
   "outputs": [],
   "source": [
    "# pca = PCA(n_components=20)\n",
    "# main_pipe_pca = imbpipeline([    \n",
    "#         ('preprocess', preprocess),                 \n",
    "#         ('encoder', encode),\n",
    "#         ('impute', impute),\n",
    "#         ('resample', smote),\n",
    "#         ('ohe', ohe),\n",
    "#         ('to_dense', ToDenseTransformer()),\n",
    "#         ('pca', pca),\n",
    "#         ('model', rfc),\n",
    "#     ])\n",
    "\n",
    "# main_pipe_pca.fit(X_train, y_train)\n",
    "# y_pred_2 = main_pipe_pca.predict(X_test)"
   ]
  },
  {
   "cell_type": "code",
   "execution_count": null,
   "id": "8e330d30",
   "metadata": {},
   "outputs": [],
   "source": [
    "# print(classification_report(y_test, y_pred_2))"
   ]
  },
  {
   "cell_type": "code",
   "execution_count": null,
   "id": "1befee82",
   "metadata": {},
   "outputs": [],
   "source": [
    "# ConfusionMatrixDisplay.from_predictions(y_test, y_pred_2);"
   ]
  },
  {
   "cell_type": "code",
   "execution_count": null,
   "id": "8c6001c1",
   "metadata": {},
   "outputs": [],
   "source": [
    "# print('Accuracy Score: ', accuracy_score(y_test, y_pred_2))"
   ]
  }
 ],
 "metadata": {
  "kernelspec": {
   "display_name": "Python 3 (ipykernel)",
   "language": "python",
   "name": "python3"
  },
  "language_info": {
   "codemirror_mode": {
    "name": "ipython",
    "version": 3
   },
   "file_extension": ".py",
   "mimetype": "text/x-python",
   "name": "python",
   "nbconvert_exporter": "python",
   "pygments_lexer": "ipython3",
   "version": "3.9.7"
  }
 },
 "nbformat": 4,
 "nbformat_minor": 5
}
