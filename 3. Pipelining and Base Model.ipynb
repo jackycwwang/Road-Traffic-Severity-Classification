{
 "cells": [
  {
   "cell_type": "markdown",
   "id": "e2a5068e",
   "metadata": {},
   "source": [
    "# Pipelining and Base Model"
   ]
  },
  {
   "cell_type": "code",
   "execution_count": 1,
   "id": "a96c0db5",
   "metadata": {},
   "outputs": [],
   "source": [
    "import numpy as np\n",
    "import pandas as pd\n",
    "import help_functions as hf"
   ]
  },
  {
   "cell_type": "code",
   "execution_count": 2,
   "id": "b6c45789",
   "metadata": {},
   "outputs": [],
   "source": [
    "from sklearn.model_selection import train_test_split\n",
    "from sklearn.preprocessing import LabelEncoder\n",
    "\n",
    "df = pd.read_csv('RTA Dataset.csv')\n",
    "X = df.iloc[:, :-1]\n",
    "y = df.iloc[:, -1]\n",
    "X_train, X_test, y_train, y_test = train_test_split(X, y, test_size=0.3, stratify=y)\n",
    "\n",
    "le = LabelEncoder()\n",
    "y_train = le.fit_transform(y_train)\n",
    "y_test = le.transform(y_test)"
   ]
  },
  {
   "cell_type": "code",
   "execution_count": 3,
   "id": "d8eae71e",
   "metadata": {},
   "outputs": [],
   "source": [
    "from sklearn.preprocessing import OrdinalEncoder\n",
    "from sklearn.impute import KNNImputer\n",
    "from fancyimpute import KNN\n",
    "from sklearn.preprocessing import StandardScaler, OneHotEncoder, FunctionTransformer\n",
    "from sklearn.compose import make_column_transformer\n",
    "from sklearn.pipeline import Pipeline\n",
    "from sklearn.feature_selection import SelectKBest\n",
    "from sklearn.decomposition import PCA\n",
    "from sklearn.linear_model import LogisticRegression"
   ]
  },
  {
   "cell_type": "code",
   "execution_count": 4,
   "id": "473ca292",
   "metadata": {},
   "outputs": [],
   "source": [
    "from sklearn.base import BaseEstimator, TransformerMixin\n",
    "class ToDenseTransformer(BaseEstimator, TransformerMixin):\n",
    "    \n",
    "    # here you define the operation it should perform\n",
    "    def transform(self, X, y=None, **fit_params):\n",
    "        return X.todense()\n",
    "    \n",
    "    #just return self\n",
    "    def fit(self, X, y=None, **fit_params):\n",
    "        return self"
   ]
  },
  {
   "cell_type": "code",
   "execution_count": 5,
   "id": "a7d9c60d",
   "metadata": {},
   "outputs": [],
   "source": [
    "oe = OrdinalEncoder()\n",
    "knn_imputer = KNNImputer()\n",
    "fancy_knn = KNN()\n",
    "\n",
    "preprocess = FunctionTransformer(hf.preprocess)\n",
    "encode = FunctionTransformer(hf.encode, kw_args={'encoder': oe})\n",
    "impute = FunctionTransformer(hf.impute, kw_args={'imputer': knn_imputer})\n",
    "ohe = OneHotEncoder(handle_unknown='ignore')\n",
    "k_best = SelectKBest(k=21)\n",
    "pca = PCA(n_components=21)\n",
    "base_model = LogisticRegression(multi_class='multinomial', max_iter=1000)"
   ]
  },
  {
   "cell_type": "code",
   "execution_count": 6,
   "id": "fda0be4e",
   "metadata": {},
   "outputs": [],
   "source": [
    "oh = make_column_transformer(\n",
    "    (ohe, hf.cat_col_without_order)\n",
    ")"
   ]
  },
  {
   "cell_type": "code",
   "execution_count": 7,
   "id": "63e0501b",
   "metadata": {},
   "outputs": [],
   "source": [
    "main_pipe_k_best = Pipeline([\n",
    "        ('preprocess', preprocess),                 \n",
    "        ('encoder', encode),        \n",
    "        ('impute', impute),\n",
    "        ('ohe', oh),                \n",
    "        ('k_best', k_best),\n",
    "        ('model', base_model),\n",
    "    ])\n",
    "\n",
    "main_pipe_pca = Pipeline([\n",
    "        ('preprocess', preprocess),                 \n",
    "        ('encoder', encode),\n",
    "        ('impute', impute),\n",
    "        ('ohe', ohe),   \n",
    "        ('to_dense', ToDenseTransformer()),\n",
    "        ('pca', pca),\n",
    "        ('model', base_model),\n",
    "    ])"
   ]
  },
  {
   "cell_type": "code",
   "execution_count": 8,
   "id": "71c2d6c3",
   "metadata": {},
   "outputs": [
    {
     "data": {
      "text/html": [
       "<style>#sk-60a7975b-5d80-4f10-9b81-bd19d817173a {color: black;background-color: white;}#sk-60a7975b-5d80-4f10-9b81-bd19d817173a pre{padding: 0;}#sk-60a7975b-5d80-4f10-9b81-bd19d817173a div.sk-toggleable {background-color: white;}#sk-60a7975b-5d80-4f10-9b81-bd19d817173a label.sk-toggleable__label {cursor: pointer;display: block;width: 100%;margin-bottom: 0;padding: 0.3em;box-sizing: border-box;text-align: center;}#sk-60a7975b-5d80-4f10-9b81-bd19d817173a label.sk-toggleable__label-arrow:before {content: \"▸\";float: left;margin-right: 0.25em;color: #696969;}#sk-60a7975b-5d80-4f10-9b81-bd19d817173a label.sk-toggleable__label-arrow:hover:before {color: black;}#sk-60a7975b-5d80-4f10-9b81-bd19d817173a div.sk-estimator:hover label.sk-toggleable__label-arrow:before {color: black;}#sk-60a7975b-5d80-4f10-9b81-bd19d817173a div.sk-toggleable__content {max-height: 0;max-width: 0;overflow: hidden;text-align: left;background-color: #f0f8ff;}#sk-60a7975b-5d80-4f10-9b81-bd19d817173a div.sk-toggleable__content pre {margin: 0.2em;color: black;border-radius: 0.25em;background-color: #f0f8ff;}#sk-60a7975b-5d80-4f10-9b81-bd19d817173a input.sk-toggleable__control:checked~div.sk-toggleable__content {max-height: 200px;max-width: 100%;overflow: auto;}#sk-60a7975b-5d80-4f10-9b81-bd19d817173a input.sk-toggleable__control:checked~label.sk-toggleable__label-arrow:before {content: \"▾\";}#sk-60a7975b-5d80-4f10-9b81-bd19d817173a div.sk-estimator input.sk-toggleable__control:checked~label.sk-toggleable__label {background-color: #d4ebff;}#sk-60a7975b-5d80-4f10-9b81-bd19d817173a div.sk-label input.sk-toggleable__control:checked~label.sk-toggleable__label {background-color: #d4ebff;}#sk-60a7975b-5d80-4f10-9b81-bd19d817173a input.sk-hidden--visually {border: 0;clip: rect(1px 1px 1px 1px);clip: rect(1px, 1px, 1px, 1px);height: 1px;margin: -1px;overflow: hidden;padding: 0;position: absolute;width: 1px;}#sk-60a7975b-5d80-4f10-9b81-bd19d817173a div.sk-estimator {font-family: monospace;background-color: #f0f8ff;border: 1px dotted black;border-radius: 0.25em;box-sizing: border-box;margin-bottom: 0.5em;}#sk-60a7975b-5d80-4f10-9b81-bd19d817173a div.sk-estimator:hover {background-color: #d4ebff;}#sk-60a7975b-5d80-4f10-9b81-bd19d817173a div.sk-parallel-item::after {content: \"\";width: 100%;border-bottom: 1px solid gray;flex-grow: 1;}#sk-60a7975b-5d80-4f10-9b81-bd19d817173a div.sk-label:hover label.sk-toggleable__label {background-color: #d4ebff;}#sk-60a7975b-5d80-4f10-9b81-bd19d817173a div.sk-serial::before {content: \"\";position: absolute;border-left: 1px solid gray;box-sizing: border-box;top: 2em;bottom: 0;left: 50%;}#sk-60a7975b-5d80-4f10-9b81-bd19d817173a div.sk-serial {display: flex;flex-direction: column;align-items: center;background-color: white;padding-right: 0.2em;padding-left: 0.2em;}#sk-60a7975b-5d80-4f10-9b81-bd19d817173a div.sk-item {z-index: 1;}#sk-60a7975b-5d80-4f10-9b81-bd19d817173a div.sk-parallel {display: flex;align-items: stretch;justify-content: center;background-color: white;}#sk-60a7975b-5d80-4f10-9b81-bd19d817173a div.sk-parallel::before {content: \"\";position: absolute;border-left: 1px solid gray;box-sizing: border-box;top: 2em;bottom: 0;left: 50%;}#sk-60a7975b-5d80-4f10-9b81-bd19d817173a div.sk-parallel-item {display: flex;flex-direction: column;position: relative;background-color: white;}#sk-60a7975b-5d80-4f10-9b81-bd19d817173a div.sk-parallel-item:first-child::after {align-self: flex-end;width: 50%;}#sk-60a7975b-5d80-4f10-9b81-bd19d817173a div.sk-parallel-item:last-child::after {align-self: flex-start;width: 50%;}#sk-60a7975b-5d80-4f10-9b81-bd19d817173a div.sk-parallel-item:only-child::after {width: 0;}#sk-60a7975b-5d80-4f10-9b81-bd19d817173a div.sk-dashed-wrapped {border: 1px dashed gray;margin: 0 0.4em 0.5em 0.4em;box-sizing: border-box;padding-bottom: 0.4em;background-color: white;position: relative;}#sk-60a7975b-5d80-4f10-9b81-bd19d817173a div.sk-label label {font-family: monospace;font-weight: bold;background-color: white;display: inline-block;line-height: 1.2em;}#sk-60a7975b-5d80-4f10-9b81-bd19d817173a div.sk-label-container {position: relative;z-index: 2;text-align: center;}#sk-60a7975b-5d80-4f10-9b81-bd19d817173a div.sk-container {/* jupyter's `normalize.less` sets `[hidden] { display: none; }` but bootstrap.min.css set `[hidden] { display: none !important; }` so we also need the `!important` here to be able to override the default hidden behavior on the sphinx rendered scikit-learn.org. See: https://github.com/scikit-learn/scikit-learn/issues/21755 */display: inline-block !important;position: relative;}#sk-60a7975b-5d80-4f10-9b81-bd19d817173a div.sk-text-repr-fallback {display: none;}</style><div id=\"sk-60a7975b-5d80-4f10-9b81-bd19d817173a\" class=\"sk-top-container\"><div class=\"sk-text-repr-fallback\"><pre>Pipeline(steps=[(&#x27;preprocess&#x27;,\n",
       "                 FunctionTransformer(func=&lt;function preprocess at 0x0000026110BC4160&gt;)),\n",
       "                (&#x27;encoder&#x27;,\n",
       "                 FunctionTransformer(func=&lt;function encode at 0x0000026111D8BB80&gt;,\n",
       "                                     kw_args={&#x27;encoder&#x27;: OrdinalEncoder()})),\n",
       "                (&#x27;impute&#x27;,\n",
       "                 FunctionTransformer(func=&lt;function impute at 0x0000026111E273A0&gt;,\n",
       "                                     kw_args={&#x27;imputer&#x27;: KNNImputer()})),\n",
       "                (&#x27;ohe&#x27;,\n",
       "                 ColumnTransformer(transfor...\n",
       "                                                   &#x27;Types_of_Junction&#x27;,\n",
       "                                                   &#x27;Type_of_vehicle&#x27;,\n",
       "                                                   &#x27;Vehicle_driver_relation&#x27;,\n",
       "                                                   &#x27;Light_conditions&#x27;,\n",
       "                                                   &#x27;Educational_level&#x27;,\n",
       "                                                   &#x27;Road_allignment&#x27;,\n",
       "                                                   &#x27;Cause_of_accident&#x27;,\n",
       "                                                   &#x27;Fitness_of_casuality&#x27;,\n",
       "                                                   &#x27;Road_surface_type&#x27;,\n",
       "                                                   &#x27;Owner_of_vehicle&#x27;,\n",
       "                                                   &#x27;Lanes_or_Medians&#x27;,\n",
       "                                                   &#x27;Area_accident_occured&#x27;])])),\n",
       "                (&#x27;k_best&#x27;, SelectKBest(k=21)),\n",
       "                (&#x27;model&#x27;,\n",
       "                 LogisticRegression(max_iter=1000, multi_class=&#x27;multinomial&#x27;))])</pre><b>Please rerun this cell to show the HTML repr or trust the notebook.</b></div><div class=\"sk-container\" hidden><div class=\"sk-item sk-dashed-wrapped\"><div class=\"sk-label-container\"><div class=\"sk-label sk-toggleable\"><input class=\"sk-toggleable__control sk-hidden--visually\" id=\"9a523ffe-4a2e-4aae-9c57-ecb7df05047b\" type=\"checkbox\" ><label for=\"9a523ffe-4a2e-4aae-9c57-ecb7df05047b\" class=\"sk-toggleable__label sk-toggleable__label-arrow\">Pipeline</label><div class=\"sk-toggleable__content\"><pre>Pipeline(steps=[(&#x27;preprocess&#x27;,\n",
       "                 FunctionTransformer(func=&lt;function preprocess at 0x0000026110BC4160&gt;)),\n",
       "                (&#x27;encoder&#x27;,\n",
       "                 FunctionTransformer(func=&lt;function encode at 0x0000026111D8BB80&gt;,\n",
       "                                     kw_args={&#x27;encoder&#x27;: OrdinalEncoder()})),\n",
       "                (&#x27;impute&#x27;,\n",
       "                 FunctionTransformer(func=&lt;function impute at 0x0000026111E273A0&gt;,\n",
       "                                     kw_args={&#x27;imputer&#x27;: KNNImputer()})),\n",
       "                (&#x27;ohe&#x27;,\n",
       "                 ColumnTransformer(transfor...\n",
       "                                                   &#x27;Types_of_Junction&#x27;,\n",
       "                                                   &#x27;Type_of_vehicle&#x27;,\n",
       "                                                   &#x27;Vehicle_driver_relation&#x27;,\n",
       "                                                   &#x27;Light_conditions&#x27;,\n",
       "                                                   &#x27;Educational_level&#x27;,\n",
       "                                                   &#x27;Road_allignment&#x27;,\n",
       "                                                   &#x27;Cause_of_accident&#x27;,\n",
       "                                                   &#x27;Fitness_of_casuality&#x27;,\n",
       "                                                   &#x27;Road_surface_type&#x27;,\n",
       "                                                   &#x27;Owner_of_vehicle&#x27;,\n",
       "                                                   &#x27;Lanes_or_Medians&#x27;,\n",
       "                                                   &#x27;Area_accident_occured&#x27;])])),\n",
       "                (&#x27;k_best&#x27;, SelectKBest(k=21)),\n",
       "                (&#x27;model&#x27;,\n",
       "                 LogisticRegression(max_iter=1000, multi_class=&#x27;multinomial&#x27;))])</pre></div></div></div><div class=\"sk-serial\"><div class=\"sk-item\"><div class=\"sk-estimator sk-toggleable\"><input class=\"sk-toggleable__control sk-hidden--visually\" id=\"af88cbec-c3f9-44a4-b557-6a3bba0b6304\" type=\"checkbox\" ><label for=\"af88cbec-c3f9-44a4-b557-6a3bba0b6304\" class=\"sk-toggleable__label sk-toggleable__label-arrow\">FunctionTransformer</label><div class=\"sk-toggleable__content\"><pre>FunctionTransformer(func=&lt;function preprocess at 0x0000026110BC4160&gt;)</pre></div></div></div><div class=\"sk-item\"><div class=\"sk-estimator sk-toggleable\"><input class=\"sk-toggleable__control sk-hidden--visually\" id=\"3003fd56-1860-4158-b389-7b7aa600bdb4\" type=\"checkbox\" ><label for=\"3003fd56-1860-4158-b389-7b7aa600bdb4\" class=\"sk-toggleable__label sk-toggleable__label-arrow\">FunctionTransformer</label><div class=\"sk-toggleable__content\"><pre>FunctionTransformer(func=&lt;function encode at 0x0000026111D8BB80&gt;,\n",
       "                    kw_args={&#x27;encoder&#x27;: OrdinalEncoder()})</pre></div></div></div><div class=\"sk-item\"><div class=\"sk-estimator sk-toggleable\"><input class=\"sk-toggleable__control sk-hidden--visually\" id=\"cb48bbcc-6cf0-4a80-a76a-a26f03c7eaba\" type=\"checkbox\" ><label for=\"cb48bbcc-6cf0-4a80-a76a-a26f03c7eaba\" class=\"sk-toggleable__label sk-toggleable__label-arrow\">FunctionTransformer</label><div class=\"sk-toggleable__content\"><pre>FunctionTransformer(func=&lt;function impute at 0x0000026111E273A0&gt;,\n",
       "                    kw_args={&#x27;imputer&#x27;: KNNImputer()})</pre></div></div></div><div class=\"sk-item sk-dashed-wrapped\"><div class=\"sk-label-container\"><div class=\"sk-label sk-toggleable\"><input class=\"sk-toggleable__control sk-hidden--visually\" id=\"5c9a8aa6-d3c4-4851-8793-6ed83b3407ce\" type=\"checkbox\" ><label for=\"5c9a8aa6-d3c4-4851-8793-6ed83b3407ce\" class=\"sk-toggleable__label sk-toggleable__label-arrow\">ohe: ColumnTransformer</label><div class=\"sk-toggleable__content\"><pre>ColumnTransformer(transformers=[(&#x27;onehotencoder&#x27;,\n",
       "                                 OneHotEncoder(handle_unknown=&#x27;ignore&#x27;),\n",
       "                                 [&#x27;Type_of_collision&#x27;, &#x27;Pedestrian_movement&#x27;,\n",
       "                                  &#x27;Weather_conditions&#x27;, &#x27;Casualty_class&#x27;,\n",
       "                                  &#x27;Sex_of_casualty&#x27;, &#x27;Road_surface_conditions&#x27;,\n",
       "                                  &#x27;Sex_of_driver&#x27;, &#x27;Vehicle_movement&#x27;,\n",
       "                                  &#x27;Types_of_Junction&#x27;, &#x27;Type_of_vehicle&#x27;,\n",
       "                                  &#x27;Vehicle_driver_relation&#x27;, &#x27;Light_conditions&#x27;,\n",
       "                                  &#x27;Educational_level&#x27;, &#x27;Road_allignment&#x27;,\n",
       "                                  &#x27;Cause_of_accident&#x27;, &#x27;Fitness_of_casuality&#x27;,\n",
       "                                  &#x27;Road_surface_type&#x27;, &#x27;Owner_of_vehicle&#x27;,\n",
       "                                  &#x27;Lanes_or_Medians&#x27;,\n",
       "                                  &#x27;Area_accident_occured&#x27;])])</pre></div></div></div><div class=\"sk-parallel\"><div class=\"sk-parallel-item\"><div class=\"sk-item\"><div class=\"sk-label-container\"><div class=\"sk-label sk-toggleable\"><input class=\"sk-toggleable__control sk-hidden--visually\" id=\"751ff7ad-870b-476f-806c-8697ce3569c7\" type=\"checkbox\" ><label for=\"751ff7ad-870b-476f-806c-8697ce3569c7\" class=\"sk-toggleable__label sk-toggleable__label-arrow\">onehotencoder</label><div class=\"sk-toggleable__content\"><pre>[&#x27;Type_of_collision&#x27;, &#x27;Pedestrian_movement&#x27;, &#x27;Weather_conditions&#x27;, &#x27;Casualty_class&#x27;, &#x27;Sex_of_casualty&#x27;, &#x27;Road_surface_conditions&#x27;, &#x27;Sex_of_driver&#x27;, &#x27;Vehicle_movement&#x27;, &#x27;Types_of_Junction&#x27;, &#x27;Type_of_vehicle&#x27;, &#x27;Vehicle_driver_relation&#x27;, &#x27;Light_conditions&#x27;, &#x27;Educational_level&#x27;, &#x27;Road_allignment&#x27;, &#x27;Cause_of_accident&#x27;, &#x27;Fitness_of_casuality&#x27;, &#x27;Road_surface_type&#x27;, &#x27;Owner_of_vehicle&#x27;, &#x27;Lanes_or_Medians&#x27;, &#x27;Area_accident_occured&#x27;]</pre></div></div></div><div class=\"sk-serial\"><div class=\"sk-item\"><div class=\"sk-estimator sk-toggleable\"><input class=\"sk-toggleable__control sk-hidden--visually\" id=\"e8b174e1-82f0-45bc-801d-2248e213ae6b\" type=\"checkbox\" ><label for=\"e8b174e1-82f0-45bc-801d-2248e213ae6b\" class=\"sk-toggleable__label sk-toggleable__label-arrow\">OneHotEncoder</label><div class=\"sk-toggleable__content\"><pre>OneHotEncoder(handle_unknown=&#x27;ignore&#x27;)</pre></div></div></div></div></div></div></div></div><div class=\"sk-item\"><div class=\"sk-estimator sk-toggleable\"><input class=\"sk-toggleable__control sk-hidden--visually\" id=\"937bfd66-1525-4788-b25e-4cb35f66a1a6\" type=\"checkbox\" ><label for=\"937bfd66-1525-4788-b25e-4cb35f66a1a6\" class=\"sk-toggleable__label sk-toggleable__label-arrow\">SelectKBest</label><div class=\"sk-toggleable__content\"><pre>SelectKBest(k=21)</pre></div></div></div><div class=\"sk-item\"><div class=\"sk-estimator sk-toggleable\"><input class=\"sk-toggleable__control sk-hidden--visually\" id=\"a35c4c8b-9c79-4573-ae35-7b026070bead\" type=\"checkbox\" ><label for=\"a35c4c8b-9c79-4573-ae35-7b026070bead\" class=\"sk-toggleable__label sk-toggleable__label-arrow\">LogisticRegression</label><div class=\"sk-toggleable__content\"><pre>LogisticRegression(max_iter=1000, multi_class=&#x27;multinomial&#x27;)</pre></div></div></div></div></div></div></div>"
      ],
      "text/plain": [
       "Pipeline(steps=[('preprocess',\n",
       "                 FunctionTransformer(func=<function preprocess at 0x0000026110BC4160>)),\n",
       "                ('encoder',\n",
       "                 FunctionTransformer(func=<function encode at 0x0000026111D8BB80>,\n",
       "                                     kw_args={'encoder': OrdinalEncoder()})),\n",
       "                ('impute',\n",
       "                 FunctionTransformer(func=<function impute at 0x0000026111E273A0>,\n",
       "                                     kw_args={'imputer': KNNImputer()})),\n",
       "                ('ohe',\n",
       "                 ColumnTransformer(transfor...\n",
       "                                                   'Types_of_Junction',\n",
       "                                                   'Type_of_vehicle',\n",
       "                                                   'Vehicle_driver_relation',\n",
       "                                                   'Light_conditions',\n",
       "                                                   'Educational_level',\n",
       "                                                   'Road_allignment',\n",
       "                                                   'Cause_of_accident',\n",
       "                                                   'Fitness_of_casuality',\n",
       "                                                   'Road_surface_type',\n",
       "                                                   'Owner_of_vehicle',\n",
       "                                                   'Lanes_or_Medians',\n",
       "                                                   'Area_accident_occured'])])),\n",
       "                ('k_best', SelectKBest(k=21)),\n",
       "                ('model',\n",
       "                 LogisticRegression(max_iter=1000, multi_class='multinomial'))])"
      ]
     },
     "execution_count": 8,
     "metadata": {},
     "output_type": "execute_result"
    }
   ],
   "source": [
    "from sklearn import set_config\n",
    "set_config(display='diagram')\n",
    "\n",
    "main_pipe_k_best"
   ]
  },
  {
   "cell_type": "code",
   "execution_count": 9,
   "id": "a34413a5",
   "metadata": {},
   "outputs": [
    {
     "data": {
      "text/html": [
       "<style>#sk-73046954-1033-4eb8-8352-3847b62df0a8 {color: black;background-color: white;}#sk-73046954-1033-4eb8-8352-3847b62df0a8 pre{padding: 0;}#sk-73046954-1033-4eb8-8352-3847b62df0a8 div.sk-toggleable {background-color: white;}#sk-73046954-1033-4eb8-8352-3847b62df0a8 label.sk-toggleable__label {cursor: pointer;display: block;width: 100%;margin-bottom: 0;padding: 0.3em;box-sizing: border-box;text-align: center;}#sk-73046954-1033-4eb8-8352-3847b62df0a8 label.sk-toggleable__label-arrow:before {content: \"▸\";float: left;margin-right: 0.25em;color: #696969;}#sk-73046954-1033-4eb8-8352-3847b62df0a8 label.sk-toggleable__label-arrow:hover:before {color: black;}#sk-73046954-1033-4eb8-8352-3847b62df0a8 div.sk-estimator:hover label.sk-toggleable__label-arrow:before {color: black;}#sk-73046954-1033-4eb8-8352-3847b62df0a8 div.sk-toggleable__content {max-height: 0;max-width: 0;overflow: hidden;text-align: left;background-color: #f0f8ff;}#sk-73046954-1033-4eb8-8352-3847b62df0a8 div.sk-toggleable__content pre {margin: 0.2em;color: black;border-radius: 0.25em;background-color: #f0f8ff;}#sk-73046954-1033-4eb8-8352-3847b62df0a8 input.sk-toggleable__control:checked~div.sk-toggleable__content {max-height: 200px;max-width: 100%;overflow: auto;}#sk-73046954-1033-4eb8-8352-3847b62df0a8 input.sk-toggleable__control:checked~label.sk-toggleable__label-arrow:before {content: \"▾\";}#sk-73046954-1033-4eb8-8352-3847b62df0a8 div.sk-estimator input.sk-toggleable__control:checked~label.sk-toggleable__label {background-color: #d4ebff;}#sk-73046954-1033-4eb8-8352-3847b62df0a8 div.sk-label input.sk-toggleable__control:checked~label.sk-toggleable__label {background-color: #d4ebff;}#sk-73046954-1033-4eb8-8352-3847b62df0a8 input.sk-hidden--visually {border: 0;clip: rect(1px 1px 1px 1px);clip: rect(1px, 1px, 1px, 1px);height: 1px;margin: -1px;overflow: hidden;padding: 0;position: absolute;width: 1px;}#sk-73046954-1033-4eb8-8352-3847b62df0a8 div.sk-estimator {font-family: monospace;background-color: #f0f8ff;border: 1px dotted black;border-radius: 0.25em;box-sizing: border-box;margin-bottom: 0.5em;}#sk-73046954-1033-4eb8-8352-3847b62df0a8 div.sk-estimator:hover {background-color: #d4ebff;}#sk-73046954-1033-4eb8-8352-3847b62df0a8 div.sk-parallel-item::after {content: \"\";width: 100%;border-bottom: 1px solid gray;flex-grow: 1;}#sk-73046954-1033-4eb8-8352-3847b62df0a8 div.sk-label:hover label.sk-toggleable__label {background-color: #d4ebff;}#sk-73046954-1033-4eb8-8352-3847b62df0a8 div.sk-serial::before {content: \"\";position: absolute;border-left: 1px solid gray;box-sizing: border-box;top: 2em;bottom: 0;left: 50%;}#sk-73046954-1033-4eb8-8352-3847b62df0a8 div.sk-serial {display: flex;flex-direction: column;align-items: center;background-color: white;padding-right: 0.2em;padding-left: 0.2em;}#sk-73046954-1033-4eb8-8352-3847b62df0a8 div.sk-item {z-index: 1;}#sk-73046954-1033-4eb8-8352-3847b62df0a8 div.sk-parallel {display: flex;align-items: stretch;justify-content: center;background-color: white;}#sk-73046954-1033-4eb8-8352-3847b62df0a8 div.sk-parallel::before {content: \"\";position: absolute;border-left: 1px solid gray;box-sizing: border-box;top: 2em;bottom: 0;left: 50%;}#sk-73046954-1033-4eb8-8352-3847b62df0a8 div.sk-parallel-item {display: flex;flex-direction: column;position: relative;background-color: white;}#sk-73046954-1033-4eb8-8352-3847b62df0a8 div.sk-parallel-item:first-child::after {align-self: flex-end;width: 50%;}#sk-73046954-1033-4eb8-8352-3847b62df0a8 div.sk-parallel-item:last-child::after {align-self: flex-start;width: 50%;}#sk-73046954-1033-4eb8-8352-3847b62df0a8 div.sk-parallel-item:only-child::after {width: 0;}#sk-73046954-1033-4eb8-8352-3847b62df0a8 div.sk-dashed-wrapped {border: 1px dashed gray;margin: 0 0.4em 0.5em 0.4em;box-sizing: border-box;padding-bottom: 0.4em;background-color: white;position: relative;}#sk-73046954-1033-4eb8-8352-3847b62df0a8 div.sk-label label {font-family: monospace;font-weight: bold;background-color: white;display: inline-block;line-height: 1.2em;}#sk-73046954-1033-4eb8-8352-3847b62df0a8 div.sk-label-container {position: relative;z-index: 2;text-align: center;}#sk-73046954-1033-4eb8-8352-3847b62df0a8 div.sk-container {/* jupyter's `normalize.less` sets `[hidden] { display: none; }` but bootstrap.min.css set `[hidden] { display: none !important; }` so we also need the `!important` here to be able to override the default hidden behavior on the sphinx rendered scikit-learn.org. See: https://github.com/scikit-learn/scikit-learn/issues/21755 */display: inline-block !important;position: relative;}#sk-73046954-1033-4eb8-8352-3847b62df0a8 div.sk-text-repr-fallback {display: none;}</style><div id=\"sk-73046954-1033-4eb8-8352-3847b62df0a8\" class=\"sk-top-container\"><div class=\"sk-text-repr-fallback\"><pre>Pipeline(steps=[(&#x27;preprocess&#x27;,\n",
       "                 FunctionTransformer(func=&lt;function preprocess at 0x0000026110BC4160&gt;)),\n",
       "                (&#x27;encoder&#x27;,\n",
       "                 FunctionTransformer(func=&lt;function encode at 0x0000026111D8BB80&gt;,\n",
       "                                     kw_args={&#x27;encoder&#x27;: OrdinalEncoder()})),\n",
       "                (&#x27;impute&#x27;,\n",
       "                 FunctionTransformer(func=&lt;function impute at 0x0000026111E273A0&gt;,\n",
       "                                     kw_args={&#x27;imputer&#x27;: KNNImputer()})),\n",
       "                (&#x27;ohe&#x27;,\n",
       "                 ColumnTransformer(transfor...\n",
       "                                                   &#x27;Types_of_Junction&#x27;,\n",
       "                                                   &#x27;Type_of_vehicle&#x27;,\n",
       "                                                   &#x27;Vehicle_driver_relation&#x27;,\n",
       "                                                   &#x27;Light_conditions&#x27;,\n",
       "                                                   &#x27;Educational_level&#x27;,\n",
       "                                                   &#x27;Road_allignment&#x27;,\n",
       "                                                   &#x27;Cause_of_accident&#x27;,\n",
       "                                                   &#x27;Fitness_of_casuality&#x27;,\n",
       "                                                   &#x27;Road_surface_type&#x27;,\n",
       "                                                   &#x27;Owner_of_vehicle&#x27;,\n",
       "                                                   &#x27;Lanes_or_Medians&#x27;,\n",
       "                                                   &#x27;Area_accident_occured&#x27;])])),\n",
       "                (&#x27;k_best&#x27;, SelectKBest(k=21)),\n",
       "                (&#x27;model&#x27;,\n",
       "                 LogisticRegression(max_iter=1000, multi_class=&#x27;multinomial&#x27;))])</pre><b>Please rerun this cell to show the HTML repr or trust the notebook.</b></div><div class=\"sk-container\" hidden><div class=\"sk-item sk-dashed-wrapped\"><div class=\"sk-label-container\"><div class=\"sk-label sk-toggleable\"><input class=\"sk-toggleable__control sk-hidden--visually\" id=\"b6861e12-2313-4ce4-806a-5c6e978d4660\" type=\"checkbox\" ><label for=\"b6861e12-2313-4ce4-806a-5c6e978d4660\" class=\"sk-toggleable__label sk-toggleable__label-arrow\">Pipeline</label><div class=\"sk-toggleable__content\"><pre>Pipeline(steps=[(&#x27;preprocess&#x27;,\n",
       "                 FunctionTransformer(func=&lt;function preprocess at 0x0000026110BC4160&gt;)),\n",
       "                (&#x27;encoder&#x27;,\n",
       "                 FunctionTransformer(func=&lt;function encode at 0x0000026111D8BB80&gt;,\n",
       "                                     kw_args={&#x27;encoder&#x27;: OrdinalEncoder()})),\n",
       "                (&#x27;impute&#x27;,\n",
       "                 FunctionTransformer(func=&lt;function impute at 0x0000026111E273A0&gt;,\n",
       "                                     kw_args={&#x27;imputer&#x27;: KNNImputer()})),\n",
       "                (&#x27;ohe&#x27;,\n",
       "                 ColumnTransformer(transfor...\n",
       "                                                   &#x27;Types_of_Junction&#x27;,\n",
       "                                                   &#x27;Type_of_vehicle&#x27;,\n",
       "                                                   &#x27;Vehicle_driver_relation&#x27;,\n",
       "                                                   &#x27;Light_conditions&#x27;,\n",
       "                                                   &#x27;Educational_level&#x27;,\n",
       "                                                   &#x27;Road_allignment&#x27;,\n",
       "                                                   &#x27;Cause_of_accident&#x27;,\n",
       "                                                   &#x27;Fitness_of_casuality&#x27;,\n",
       "                                                   &#x27;Road_surface_type&#x27;,\n",
       "                                                   &#x27;Owner_of_vehicle&#x27;,\n",
       "                                                   &#x27;Lanes_or_Medians&#x27;,\n",
       "                                                   &#x27;Area_accident_occured&#x27;])])),\n",
       "                (&#x27;k_best&#x27;, SelectKBest(k=21)),\n",
       "                (&#x27;model&#x27;,\n",
       "                 LogisticRegression(max_iter=1000, multi_class=&#x27;multinomial&#x27;))])</pre></div></div></div><div class=\"sk-serial\"><div class=\"sk-item\"><div class=\"sk-estimator sk-toggleable\"><input class=\"sk-toggleable__control sk-hidden--visually\" id=\"0e2b08de-98ee-4160-9956-92f88a95310c\" type=\"checkbox\" ><label for=\"0e2b08de-98ee-4160-9956-92f88a95310c\" class=\"sk-toggleable__label sk-toggleable__label-arrow\">FunctionTransformer</label><div class=\"sk-toggleable__content\"><pre>FunctionTransformer(func=&lt;function preprocess at 0x0000026110BC4160&gt;)</pre></div></div></div><div class=\"sk-item\"><div class=\"sk-estimator sk-toggleable\"><input class=\"sk-toggleable__control sk-hidden--visually\" id=\"8881b6d3-192a-449c-8f1e-797a5e1fb07d\" type=\"checkbox\" ><label for=\"8881b6d3-192a-449c-8f1e-797a5e1fb07d\" class=\"sk-toggleable__label sk-toggleable__label-arrow\">FunctionTransformer</label><div class=\"sk-toggleable__content\"><pre>FunctionTransformer(func=&lt;function encode at 0x0000026111D8BB80&gt;,\n",
       "                    kw_args={&#x27;encoder&#x27;: OrdinalEncoder()})</pre></div></div></div><div class=\"sk-item\"><div class=\"sk-estimator sk-toggleable\"><input class=\"sk-toggleable__control sk-hidden--visually\" id=\"01569e83-d16c-4a07-b978-30aceee81463\" type=\"checkbox\" ><label for=\"01569e83-d16c-4a07-b978-30aceee81463\" class=\"sk-toggleable__label sk-toggleable__label-arrow\">FunctionTransformer</label><div class=\"sk-toggleable__content\"><pre>FunctionTransformer(func=&lt;function impute at 0x0000026111E273A0&gt;,\n",
       "                    kw_args={&#x27;imputer&#x27;: KNNImputer()})</pre></div></div></div><div class=\"sk-item sk-dashed-wrapped\"><div class=\"sk-label-container\"><div class=\"sk-label sk-toggleable\"><input class=\"sk-toggleable__control sk-hidden--visually\" id=\"1493e1b0-6d3c-4f86-bc86-a70eab05b5f4\" type=\"checkbox\" ><label for=\"1493e1b0-6d3c-4f86-bc86-a70eab05b5f4\" class=\"sk-toggleable__label sk-toggleable__label-arrow\">ohe: ColumnTransformer</label><div class=\"sk-toggleable__content\"><pre>ColumnTransformer(transformers=[(&#x27;onehotencoder&#x27;,\n",
       "                                 OneHotEncoder(handle_unknown=&#x27;ignore&#x27;),\n",
       "                                 [&#x27;Type_of_collision&#x27;, &#x27;Pedestrian_movement&#x27;,\n",
       "                                  &#x27;Weather_conditions&#x27;, &#x27;Casualty_class&#x27;,\n",
       "                                  &#x27;Sex_of_casualty&#x27;, &#x27;Road_surface_conditions&#x27;,\n",
       "                                  &#x27;Sex_of_driver&#x27;, &#x27;Vehicle_movement&#x27;,\n",
       "                                  &#x27;Types_of_Junction&#x27;, &#x27;Type_of_vehicle&#x27;,\n",
       "                                  &#x27;Vehicle_driver_relation&#x27;, &#x27;Light_conditions&#x27;,\n",
       "                                  &#x27;Educational_level&#x27;, &#x27;Road_allignment&#x27;,\n",
       "                                  &#x27;Cause_of_accident&#x27;, &#x27;Fitness_of_casuality&#x27;,\n",
       "                                  &#x27;Road_surface_type&#x27;, &#x27;Owner_of_vehicle&#x27;,\n",
       "                                  &#x27;Lanes_or_Medians&#x27;,\n",
       "                                  &#x27;Area_accident_occured&#x27;])])</pre></div></div></div><div class=\"sk-parallel\"><div class=\"sk-parallel-item\"><div class=\"sk-item\"><div class=\"sk-label-container\"><div class=\"sk-label sk-toggleable\"><input class=\"sk-toggleable__control sk-hidden--visually\" id=\"fb6c1cf5-513e-4b9f-848f-799d2a5e0a65\" type=\"checkbox\" ><label for=\"fb6c1cf5-513e-4b9f-848f-799d2a5e0a65\" class=\"sk-toggleable__label sk-toggleable__label-arrow\">onehotencoder</label><div class=\"sk-toggleable__content\"><pre>[&#x27;Type_of_collision&#x27;, &#x27;Pedestrian_movement&#x27;, &#x27;Weather_conditions&#x27;, &#x27;Casualty_class&#x27;, &#x27;Sex_of_casualty&#x27;, &#x27;Road_surface_conditions&#x27;, &#x27;Sex_of_driver&#x27;, &#x27;Vehicle_movement&#x27;, &#x27;Types_of_Junction&#x27;, &#x27;Type_of_vehicle&#x27;, &#x27;Vehicle_driver_relation&#x27;, &#x27;Light_conditions&#x27;, &#x27;Educational_level&#x27;, &#x27;Road_allignment&#x27;, &#x27;Cause_of_accident&#x27;, &#x27;Fitness_of_casuality&#x27;, &#x27;Road_surface_type&#x27;, &#x27;Owner_of_vehicle&#x27;, &#x27;Lanes_or_Medians&#x27;, &#x27;Area_accident_occured&#x27;]</pre></div></div></div><div class=\"sk-serial\"><div class=\"sk-item\"><div class=\"sk-estimator sk-toggleable\"><input class=\"sk-toggleable__control sk-hidden--visually\" id=\"16288fc6-3b3a-41f2-8c91-008bf5056d55\" type=\"checkbox\" ><label for=\"16288fc6-3b3a-41f2-8c91-008bf5056d55\" class=\"sk-toggleable__label sk-toggleable__label-arrow\">OneHotEncoder</label><div class=\"sk-toggleable__content\"><pre>OneHotEncoder(handle_unknown=&#x27;ignore&#x27;)</pre></div></div></div></div></div></div></div></div><div class=\"sk-item\"><div class=\"sk-estimator sk-toggleable\"><input class=\"sk-toggleable__control sk-hidden--visually\" id=\"5db1f051-9b02-47e5-b05f-21204b0ee195\" type=\"checkbox\" ><label for=\"5db1f051-9b02-47e5-b05f-21204b0ee195\" class=\"sk-toggleable__label sk-toggleable__label-arrow\">SelectKBest</label><div class=\"sk-toggleable__content\"><pre>SelectKBest(k=21)</pre></div></div></div><div class=\"sk-item\"><div class=\"sk-estimator sk-toggleable\"><input class=\"sk-toggleable__control sk-hidden--visually\" id=\"630d9f02-772d-49e0-8e09-5551b67c55ec\" type=\"checkbox\" ><label for=\"630d9f02-772d-49e0-8e09-5551b67c55ec\" class=\"sk-toggleable__label sk-toggleable__label-arrow\">LogisticRegression</label><div class=\"sk-toggleable__content\"><pre>LogisticRegression(max_iter=1000, multi_class=&#x27;multinomial&#x27;)</pre></div></div></div></div></div></div></div>"
      ],
      "text/plain": [
       "Pipeline(steps=[('preprocess',\n",
       "                 FunctionTransformer(func=<function preprocess at 0x0000026110BC4160>)),\n",
       "                ('encoder',\n",
       "                 FunctionTransformer(func=<function encode at 0x0000026111D8BB80>,\n",
       "                                     kw_args={'encoder': OrdinalEncoder()})),\n",
       "                ('impute',\n",
       "                 FunctionTransformer(func=<function impute at 0x0000026111E273A0>,\n",
       "                                     kw_args={'imputer': KNNImputer()})),\n",
       "                ('ohe',\n",
       "                 ColumnTransformer(transfor...\n",
       "                                                   'Types_of_Junction',\n",
       "                                                   'Type_of_vehicle',\n",
       "                                                   'Vehicle_driver_relation',\n",
       "                                                   'Light_conditions',\n",
       "                                                   'Educational_level',\n",
       "                                                   'Road_allignment',\n",
       "                                                   'Cause_of_accident',\n",
       "                                                   'Fitness_of_casuality',\n",
       "                                                   'Road_surface_type',\n",
       "                                                   'Owner_of_vehicle',\n",
       "                                                   'Lanes_or_Medians',\n",
       "                                                   'Area_accident_occured'])])),\n",
       "                ('k_best', SelectKBest(k=21)),\n",
       "                ('model',\n",
       "                 LogisticRegression(max_iter=1000, multi_class='multinomial'))])"
      ]
     },
     "execution_count": 9,
     "metadata": {},
     "output_type": "execute_result"
    }
   ],
   "source": [
    "main_pipe_k_best.fit(X_train, y_train)"
   ]
  },
  {
   "cell_type": "code",
   "execution_count": 10,
   "id": "354b525a",
   "metadata": {},
   "outputs": [],
   "source": [
    "y_pred_1 = main_pipe_k_best.predict(X_test)"
   ]
  },
  {
   "cell_type": "code",
   "execution_count": 11,
   "id": "81fcd218",
   "metadata": {},
   "outputs": [],
   "source": [
    "from sklearn.metrics import recall_score, f1_score, accuracy_score, precision_score\n",
    "from sklearn.metrics import ConfusionMatrixDisplay, classification_report"
   ]
  },
  {
   "cell_type": "code",
   "execution_count": 12,
   "id": "4191eee5",
   "metadata": {},
   "outputs": [
    {
     "data": {
      "text/plain": [
       "0.8457374830852503"
      ]
     },
     "execution_count": 12,
     "metadata": {},
     "output_type": "execute_result"
    }
   ],
   "source": [
    "accuracy_score(y_test, y_pred_1)"
   ]
  },
  {
   "cell_type": "code",
   "execution_count": 13,
   "id": "5f4e066b",
   "metadata": {},
   "outputs": [
    {
     "data": {
      "image/png": "[encoded data removed]",
      "text/plain": [
       "<Figure size 432x288 with 2 Axes>"
      ]
     },
     "metadata": {
      "needs_background": "light"
     },
     "output_type": "display_data"
    }
   ],
   "source": [
    "ConfusionMatrixDisplay.from_predictions(y_test, y_pred_1);"
   ]
  },
  {
   "cell_type": "code",
   "execution_count": 14,
   "id": "7c022566",
   "metadata": {},
   "outputs": [],
   "source": [
    "classification_report(y_test, y_pred_1, zero_division=1);"
   ]
  },
  {
   "cell_type": "code",
   "execution_count": 15,
   "id": "ab5c13e8",
   "metadata": {},
   "outputs": [
    {
     "name": "stderr",
     "output_type": "stream",
     "text": [
      "C:\\Users\\jacky\\anaconda3\\lib\\site-packages\\sklearn\\utils\\validation.py:593: FutureWarning: np.matrix usage is deprecated in 1.0 and will raise a TypeError in 1.2. Please convert to a numpy array with np.asarray. For more information see: https://numpy.org/doc/stable/reference/generated/numpy.matrix.html\n",
      "  warnings.warn(\n"
     ]
    },
    {
     "data": {
      "text/html": [
       "<style>#sk-ce07caa8-ef69-482e-b61d-05553f1552c5 {color: black;background-color: white;}#sk-ce07caa8-ef69-482e-b61d-05553f1552c5 pre{padding: 0;}#sk-ce07caa8-ef69-482e-b61d-05553f1552c5 div.sk-toggleable {background-color: white;}#sk-ce07caa8-ef69-482e-b61d-05553f1552c5 label.sk-toggleable__label {cursor: pointer;display: block;width: 100%;margin-bottom: 0;padding: 0.3em;box-sizing: border-box;text-align: center;}#sk-ce07caa8-ef69-482e-b61d-05553f1552c5 label.sk-toggleable__label-arrow:before {content: \"▸\";float: left;margin-right: 0.25em;color: #696969;}#sk-ce07caa8-ef69-482e-b61d-05553f1552c5 label.sk-toggleable__label-arrow:hover:before {color: black;}#sk-ce07caa8-ef69-482e-b61d-05553f1552c5 div.sk-estimator:hover label.sk-toggleable__label-arrow:before {color: black;}#sk-ce07caa8-ef69-482e-b61d-05553f1552c5 div.sk-toggleable__content {max-height: 0;max-width: 0;overflow: hidden;text-align: left;background-color: #f0f8ff;}#sk-ce07caa8-ef69-482e-b61d-05553f1552c5 div.sk-toggleable__content pre {margin: 0.2em;color: black;border-radius: 0.25em;background-color: #f0f8ff;}#sk-ce07caa8-ef69-482e-b61d-05553f1552c5 input.sk-toggleable__control:checked~div.sk-toggleable__content {max-height: 200px;max-width: 100%;overflow: auto;}#sk-ce07caa8-ef69-482e-b61d-05553f1552c5 input.sk-toggleable__control:checked~label.sk-toggleable__label-arrow:before {content: \"▾\";}#sk-ce07caa8-ef69-482e-b61d-05553f1552c5 div.sk-estimator input.sk-toggleable__control:checked~label.sk-toggleable__label {background-color: #d4ebff;}#sk-ce07caa8-ef69-482e-b61d-05553f1552c5 div.sk-label input.sk-toggleable__control:checked~label.sk-toggleable__label {background-color: #d4ebff;}#sk-ce07caa8-ef69-482e-b61d-05553f1552c5 input.sk-hidden--visually {border: 0;clip: rect(1px 1px 1px 1px);clip: rect(1px, 1px, 1px, 1px);height: 1px;margin: -1px;overflow: hidden;padding: 0;position: absolute;width: 1px;}#sk-ce07caa8-ef69-482e-b61d-05553f1552c5 div.sk-estimator {font-family: monospace;background-color: #f0f8ff;border: 1px dotted black;border-radius: 0.25em;box-sizing: border-box;margin-bottom: 0.5em;}#sk-ce07caa8-ef69-482e-b61d-05553f1552c5 div.sk-estimator:hover {background-color: #d4ebff;}#sk-ce07caa8-ef69-482e-b61d-05553f1552c5 div.sk-parallel-item::after {content: \"\";width: 100%;border-bottom: 1px solid gray;flex-grow: 1;}#sk-ce07caa8-ef69-482e-b61d-05553f1552c5 div.sk-label:hover label.sk-toggleable__label {background-color: #d4ebff;}#sk-ce07caa8-ef69-482e-b61d-05553f1552c5 div.sk-serial::before {content: \"\";position: absolute;border-left: 1px solid gray;box-sizing: border-box;top: 2em;bottom: 0;left: 50%;}#sk-ce07caa8-ef69-482e-b61d-05553f1552c5 div.sk-serial {display: flex;flex-direction: column;align-items: center;background-color: white;padding-right: 0.2em;padding-left: 0.2em;}#sk-ce07caa8-ef69-482e-b61d-05553f1552c5 div.sk-item {z-index: 1;}#sk-ce07caa8-ef69-482e-b61d-05553f1552c5 div.sk-parallel {display: flex;align-items: stretch;justify-content: center;background-color: white;}#sk-ce07caa8-ef69-482e-b61d-05553f1552c5 div.sk-parallel::before {content: \"\";position: absolute;border-left: 1px solid gray;box-sizing: border-box;top: 2em;bottom: 0;left: 50%;}#sk-ce07caa8-ef69-482e-b61d-05553f1552c5 div.sk-parallel-item {display: flex;flex-direction: column;position: relative;background-color: white;}#sk-ce07caa8-ef69-482e-b61d-05553f1552c5 div.sk-parallel-item:first-child::after {align-self: flex-end;width: 50%;}#sk-ce07caa8-ef69-482e-b61d-05553f1552c5 div.sk-parallel-item:last-child::after {align-self: flex-start;width: 50%;}#sk-ce07caa8-ef69-482e-b61d-05553f1552c5 div.sk-parallel-item:only-child::after {width: 0;}#sk-ce07caa8-ef69-482e-b61d-05553f1552c5 div.sk-dashed-wrapped {border: 1px dashed gray;margin: 0 0.4em 0.5em 0.4em;box-sizing: border-box;padding-bottom: 0.4em;background-color: white;position: relative;}#sk-ce07caa8-ef69-482e-b61d-05553f1552c5 div.sk-label label {font-family: monospace;font-weight: bold;background-color: white;display: inline-block;line-height: 1.2em;}#sk-ce07caa8-ef69-482e-b61d-05553f1552c5 div.sk-label-container {position: relative;z-index: 2;text-align: center;}#sk-ce07caa8-ef69-482e-b61d-05553f1552c5 div.sk-container {/* jupyter's `normalize.less` sets `[hidden] { display: none; }` but bootstrap.min.css set `[hidden] { display: none !important; }` so we also need the `!important` here to be able to override the default hidden behavior on the sphinx rendered scikit-learn.org. See: https://github.com/scikit-learn/scikit-learn/issues/21755 */display: inline-block !important;position: relative;}#sk-ce07caa8-ef69-482e-b61d-05553f1552c5 div.sk-text-repr-fallback {display: none;}</style><div id=\"sk-ce07caa8-ef69-482e-b61d-05553f1552c5\" class=\"sk-top-container\"><div class=\"sk-text-repr-fallback\"><pre>Pipeline(steps=[(&#x27;preprocess&#x27;,\n",
       "                 FunctionTransformer(func=&lt;function preprocess at 0x0000026110BC4160&gt;)),\n",
       "                (&#x27;encoder&#x27;,\n",
       "                 FunctionTransformer(func=&lt;function encode at 0x0000026111D8BB80&gt;,\n",
       "                                     kw_args={&#x27;encoder&#x27;: OrdinalEncoder()})),\n",
       "                (&#x27;impute&#x27;,\n",
       "                 FunctionTransformer(func=&lt;function impute at 0x0000026111E273A0&gt;,\n",
       "                                     kw_args={&#x27;imputer&#x27;: KNNImputer()})),\n",
       "                (&#x27;ohe&#x27;, OneHotEncoder(handle_unknown=&#x27;ignore&#x27;)),\n",
       "                (&#x27;to_dense&#x27;, ToDenseTransformer()),\n",
       "                (&#x27;pca&#x27;, PCA(n_components=21)),\n",
       "                (&#x27;model&#x27;,\n",
       "                 LogisticRegression(max_iter=1000, multi_class=&#x27;multinomial&#x27;))])</pre><b>Please rerun this cell to show the HTML repr or trust the notebook.</b></div><div class=\"sk-container\" hidden><div class=\"sk-item sk-dashed-wrapped\"><div class=\"sk-label-container\"><div class=\"sk-label sk-toggleable\"><input class=\"sk-toggleable__control sk-hidden--visually\" id=\"8a69f3ca-498e-41bf-ac04-f0c1bfd2d591\" type=\"checkbox\" ><label for=\"8a69f3ca-498e-41bf-ac04-f0c1bfd2d591\" class=\"sk-toggleable__label sk-toggleable__label-arrow\">Pipeline</label><div class=\"sk-toggleable__content\"><pre>Pipeline(steps=[(&#x27;preprocess&#x27;,\n",
       "                 FunctionTransformer(func=&lt;function preprocess at 0x0000026110BC4160&gt;)),\n",
       "                (&#x27;encoder&#x27;,\n",
       "                 FunctionTransformer(func=&lt;function encode at 0x0000026111D8BB80&gt;,\n",
       "                                     kw_args={&#x27;encoder&#x27;: OrdinalEncoder()})),\n",
       "                (&#x27;impute&#x27;,\n",
       "                 FunctionTransformer(func=&lt;function impute at 0x0000026111E273A0&gt;,\n",
       "                                     kw_args={&#x27;imputer&#x27;: KNNImputer()})),\n",
       "                (&#x27;ohe&#x27;, OneHotEncoder(handle_unknown=&#x27;ignore&#x27;)),\n",
       "                (&#x27;to_dense&#x27;, ToDenseTransformer()),\n",
       "                (&#x27;pca&#x27;, PCA(n_components=21)),\n",
       "                (&#x27;model&#x27;,\n",
       "                 LogisticRegression(max_iter=1000, multi_class=&#x27;multinomial&#x27;))])</pre></div></div></div><div class=\"sk-serial\"><div class=\"sk-item\"><div class=\"sk-estimator sk-toggleable\"><input class=\"sk-toggleable__control sk-hidden--visually\" id=\"d51be868-818a-4da0-8e8f-4f59f940d9f2\" type=\"checkbox\" ><label for=\"d51be868-818a-4da0-8e8f-4f59f940d9f2\" class=\"sk-toggleable__label sk-toggleable__label-arrow\">FunctionTransformer</label><div class=\"sk-toggleable__content\"><pre>FunctionTransformer(func=&lt;function preprocess at 0x0000026110BC4160&gt;)</pre></div></div></div><div class=\"sk-item\"><div class=\"sk-estimator sk-toggleable\"><input class=\"sk-toggleable__control sk-hidden--visually\" id=\"933fa701-63ca-43bb-916f-6c217a34f318\" type=\"checkbox\" ><label for=\"933fa701-63ca-43bb-916f-6c217a34f318\" class=\"sk-toggleable__label sk-toggleable__label-arrow\">FunctionTransformer</label><div class=\"sk-toggleable__content\"><pre>FunctionTransformer(func=&lt;function encode at 0x0000026111D8BB80&gt;,\n",
       "                    kw_args={&#x27;encoder&#x27;: OrdinalEncoder()})</pre></div></div></div><div class=\"sk-item\"><div class=\"sk-estimator sk-toggleable\"><input class=\"sk-toggleable__control sk-hidden--visually\" id=\"dd6b98d5-4c07-4db9-a118-9d9efa7022c6\" type=\"checkbox\" ><label for=\"dd6b98d5-4c07-4db9-a118-9d9efa7022c6\" class=\"sk-toggleable__label sk-toggleable__label-arrow\">FunctionTransformer</label><div class=\"sk-toggleable__content\"><pre>FunctionTransformer(func=&lt;function impute at 0x0000026111E273A0&gt;,\n",
       "                    kw_args={&#x27;imputer&#x27;: KNNImputer()})</pre></div></div></div><div class=\"sk-item\"><div class=\"sk-estimator sk-toggleable\"><input class=\"sk-toggleable__control sk-hidden--visually\" id=\"a613ffbf-5079-4d5e-b2d5-a0628049bcba\" type=\"checkbox\" ><label for=\"a613ffbf-5079-4d5e-b2d5-a0628049bcba\" class=\"sk-toggleable__label sk-toggleable__label-arrow\">OneHotEncoder</label><div class=\"sk-toggleable__content\"><pre>OneHotEncoder(handle_unknown=&#x27;ignore&#x27;)</pre></div></div></div><div class=\"sk-item\"><div class=\"sk-estimator sk-toggleable\"><input class=\"sk-toggleable__control sk-hidden--visually\" id=\"521f7fb9-339f-4163-8228-d5cc2e0e4e3c\" type=\"checkbox\" ><label for=\"521f7fb9-339f-4163-8228-d5cc2e0e4e3c\" class=\"sk-toggleable__label sk-toggleable__label-arrow\">ToDenseTransformer</label><div class=\"sk-toggleable__content\"><pre>ToDenseTransformer()</pre></div></div></div><div class=\"sk-item\"><div class=\"sk-estimator sk-toggleable\"><input class=\"sk-toggleable__control sk-hidden--visually\" id=\"ed35ad30-17ed-4e29-971e-d26c207c1335\" type=\"checkbox\" ><label for=\"ed35ad30-17ed-4e29-971e-d26c207c1335\" class=\"sk-toggleable__label sk-toggleable__label-arrow\">PCA</label><div class=\"sk-toggleable__content\"><pre>PCA(n_components=21)</pre></div></div></div><div class=\"sk-item\"><div class=\"sk-estimator sk-toggleable\"><input class=\"sk-toggleable__control sk-hidden--visually\" id=\"7b6886a4-83f2-434a-a8a7-6be03eca64b5\" type=\"checkbox\" ><label for=\"7b6886a4-83f2-434a-a8a7-6be03eca64b5\" class=\"sk-toggleable__label sk-toggleable__label-arrow\">LogisticRegression</label><div class=\"sk-toggleable__content\"><pre>LogisticRegression(max_iter=1000, multi_class=&#x27;multinomial&#x27;)</pre></div></div></div></div></div></div></div>"
      ],
      "text/plain": [
       "Pipeline(steps=[('preprocess',\n",
       "                 FunctionTransformer(func=<function preprocess at 0x0000026110BC4160>)),\n",
       "                ('encoder',\n",
       "                 FunctionTransformer(func=<function encode at 0x0000026111D8BB80>,\n",
       "                                     kw_args={'encoder': OrdinalEncoder()})),\n",
       "                ('impute',\n",
       "                 FunctionTransformer(func=<function impute at 0x0000026111E273A0>,\n",
       "                                     kw_args={'imputer': KNNImputer()})),\n",
       "                ('ohe', OneHotEncoder(handle_unknown='ignore')),\n",
       "                ('to_dense', ToDenseTransformer()),\n",
       "                ('pca', PCA(n_components=21)),\n",
       "                ('model',\n",
       "                 LogisticRegression(max_iter=1000, multi_class='multinomial'))])"
      ]
     },
     "execution_count": 15,
     "metadata": {},
     "output_type": "execute_result"
    }
   ],
   "source": [
    "main_pipe_pca.fit(X_train, y_train)"
   ]
  },
  {
   "cell_type": "code",
   "execution_count": 16,
   "id": "a40b8081",
   "metadata": {},
   "outputs": [
    {
     "name": "stderr",
     "output_type": "stream",
     "text": [
      "C:\\Users\\jacky\\anaconda3\\lib\\site-packages\\sklearn\\utils\\validation.py:593: FutureWarning: np.matrix usage is deprecated in 1.0 and will raise a TypeError in 1.2. Please convert to a numpy array with np.asarray. For more information see: https://numpy.org/doc/stable/reference/generated/numpy.matrix.html\n",
      "  warnings.warn(\n"
     ]
    }
   ],
   "source": [
    "y_pred_2 = main_pipe_pca.predict(X_test)"
   ]
  },
  {
   "cell_type": "code",
   "execution_count": 17,
   "id": "9ba456ee",
   "metadata": {},
   "outputs": [
    {
     "data": {
      "text/plain": [
       "0.8457374830852503"
      ]
     },
     "execution_count": 17,
     "metadata": {},
     "output_type": "execute_result"
    }
   ],
   "source": [
    "accuracy_score(y_test, y_pred_2)"
   ]
  },
  {
   "cell_type": "code",
   "execution_count": 18,
   "id": "95208914",
   "metadata": {},
   "outputs": [
    {
     "data": {
      "image/png": "[encoded data removed]",
      "text/plain": [
       "<Figure size 432x288 with 2 Axes>"
      ]
     },
     "metadata": {
      "needs_background": "light"
     },
     "output_type": "display_data"
    }
   ],
   "source": [
    "ConfusionMatrixDisplay.from_predictions(y_test, y_pred_2);"
   ]
  },
  {
   "cell_type": "code",
   "execution_count": null,
   "id": "c2789cfd",
   "metadata": {},
   "outputs": [],
   "source": []
  }
 ],
 "metadata": {
  "kernelspec": {
   "display_name": "Python 3 (ipykernel)",
   "language": "python",
   "name": "python3"
  },
  "language_info": {
   "codemirror_mode": {
    "name": "ipython",
    "version": 3
   },
   "file_extension": ".py",
   "mimetype": "text/x-python",
   "name": "python",
   "nbconvert_exporter": "python",
   "pygments_lexer": "ipython3",
   "version": "3.9.7"
  }
 },
 "nbformat": 4,
 "nbformat_minor": 5
}
