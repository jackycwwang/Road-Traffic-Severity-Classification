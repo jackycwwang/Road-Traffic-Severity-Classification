{
 "cells": [
  {
   "cell_type": "markdown",
   "id": "f843868b",
   "metadata": {},
   "source": [
    "# Pipelining and Base Model"
   ]
  },
  {
   "cell_type": "code",
   "execution_count": 1,
   "id": "f77c6ba7",
   "metadata": {},
   "outputs": [],
   "source": [
    "import numpy as np\n",
    "import pandas as pd\n",
    "import help_functions as hf"
   ]
  },
  {
   "cell_type": "code",
   "execution_count": 2,
   "id": "36692ac4",
   "metadata": {},
   "outputs": [],
   "source": [
    "from sklearn.model_selection import train_test_split\n",
    "from sklearn.preprocessing import LabelEncoder\n",
    "\n",
    "df = pd.read_csv('RTA Dataset.csv')\n",
    "X = df.iloc[:, :-1]\n",
    "y = df.iloc[:, -1]\n",
    "X_train, X_test, y_train, y_test = train_test_split(X, y, test_size=0.3, stratify=y)\n",
    "\n",
    "le = LabelEncoder()\n",
    "y_train = le.fit_transform(y_train)\n",
    "y_test = le.transform(y_test)"
   ]
  },
  {
   "cell_type": "code",
   "execution_count": 3,
   "id": "7f2e1896",
   "metadata": {},
   "outputs": [],
   "source": [
    "from sklearn.preprocessing import LabelEncoder\n",
    "from sklearn.impute import KNNImputer\n",
    "from sklearn.preprocessing import StandardScaler, OneHotEncoder, FunctionTransformer\n",
    "from sklearn.compose import make_column_transformer\n",
    "from sklearn.pipeline import Pipeline\n",
    "from sklearn.feature_selection import SelectKBest\n",
    "from sklearn.decomposition import PCA\n",
    "from sklearn.linear_model import LogisticRegression"
   ]
  },
  {
   "cell_type": "code",
   "execution_count": 5,
   "id": "c81b323a",
   "metadata": {},
   "outputs": [],
   "source": [
    "preprocess = FunctionTransformer(hf.preprocess)\n",
    "label_encode = FunctionTransformer(hf.label_encoder)\n",
    "ohe = OneHotEncoder(sparse=False)\n",
    "knn_imputer = KNNImputer()\n",
    "k_best = SelectKBest(k=10)\n",
    "pca = PCA(n_components=10)\n",
    "base_model = LogisticRegression(multi_class='multinomial', max_iter=1000)"
   ]
  },
  {
   "cell_type": "code",
   "execution_count": 32,
   "id": "6638853d",
   "metadata": {},
   "outputs": [],
   "source": [
    "ohe = make_column_transformer(\n",
    "    (ohe, hf.cat_col_without_order)\n",
    ")"
   ]
  },
  {
   "cell_type": "code",
   "execution_count": 14,
   "id": "a46f0453",
   "metadata": {},
   "outputs": [],
   "source": [
    "main_pipe_k_best = Pipeline([\n",
    "        ('preprocess', preprocess),                 \n",
    "        ('label_encode', label_encode),\n",
    "        ('ohe', ohe),        \n",
    "        ('impute', knn_imputer),\n",
    "        ('k_best', k_best),\n",
    "        ('model', base_model),\n",
    "    ])\n",
    "\n",
    "main_pipe_pca = Pipeline([\n",
    "        ('preprocess', preprocess),                 \n",
    "        ('label_encoder', label_encode),\n",
    "        ('ohe', ohe),        \n",
    "        ('impute', knn_imputer),\n",
    "        ('pca', pca),\n",
    "        ('model', base_model),\n",
    "    ])"
   ]
  },
  {
   "cell_type": "code",
   "execution_count": 15,
   "id": "2dfbfe02",
   "metadata": {},
   "outputs": [
    {
     "data": {
      "text/html": [
       "<style>#sk-6688b3c9-7211-41ab-a203-efc5b28eb2f6 {color: black;background-color: white;}#sk-6688b3c9-7211-41ab-a203-efc5b28eb2f6 pre{padding: 0;}#sk-6688b3c9-7211-41ab-a203-efc5b28eb2f6 div.sk-toggleable {background-color: white;}#sk-6688b3c9-7211-41ab-a203-efc5b28eb2f6 label.sk-toggleable__label {cursor: pointer;display: block;width: 100%;margin-bottom: 0;padding: 0.3em;box-sizing: border-box;text-align: center;}#sk-6688b3c9-7211-41ab-a203-efc5b28eb2f6 label.sk-toggleable__label-arrow:before {content: \"▸\";float: left;margin-right: 0.25em;color: #696969;}#sk-6688b3c9-7211-41ab-a203-efc5b28eb2f6 label.sk-toggleable__label-arrow:hover:before {color: black;}#sk-6688b3c9-7211-41ab-a203-efc5b28eb2f6 div.sk-estimator:hover label.sk-toggleable__label-arrow:before {color: black;}#sk-6688b3c9-7211-41ab-a203-efc5b28eb2f6 div.sk-toggleable__content {max-height: 0;max-width: 0;overflow: hidden;text-align: left;background-color: #f0f8ff;}#sk-6688b3c9-7211-41ab-a203-efc5b28eb2f6 div.sk-toggleable__content pre {margin: 0.2em;color: black;border-radius: 0.25em;background-color: #f0f8ff;}#sk-6688b3c9-7211-41ab-a203-efc5b28eb2f6 input.sk-toggleable__control:checked~div.sk-toggleable__content {max-height: 200px;max-width: 100%;overflow: auto;}#sk-6688b3c9-7211-41ab-a203-efc5b28eb2f6 input.sk-toggleable__control:checked~label.sk-toggleable__label-arrow:before {content: \"▾\";}#sk-6688b3c9-7211-41ab-a203-efc5b28eb2f6 div.sk-estimator input.sk-toggleable__control:checked~label.sk-toggleable__label {background-color: #d4ebff;}#sk-6688b3c9-7211-41ab-a203-efc5b28eb2f6 div.sk-label input.sk-toggleable__control:checked~label.sk-toggleable__label {background-color: #d4ebff;}#sk-6688b3c9-7211-41ab-a203-efc5b28eb2f6 input.sk-hidden--visually {border: 0;clip: rect(1px 1px 1px 1px);clip: rect(1px, 1px, 1px, 1px);height: 1px;margin: -1px;overflow: hidden;padding: 0;position: absolute;width: 1px;}#sk-6688b3c9-7211-41ab-a203-efc5b28eb2f6 div.sk-estimator {font-family: monospace;background-color: #f0f8ff;border: 1px dotted black;border-radius: 0.25em;box-sizing: border-box;margin-bottom: 0.5em;}#sk-6688b3c9-7211-41ab-a203-efc5b28eb2f6 div.sk-estimator:hover {background-color: #d4ebff;}#sk-6688b3c9-7211-41ab-a203-efc5b28eb2f6 div.sk-parallel-item::after {content: \"\";width: 100%;border-bottom: 1px solid gray;flex-grow: 1;}#sk-6688b3c9-7211-41ab-a203-efc5b28eb2f6 div.sk-label:hover label.sk-toggleable__label {background-color: #d4ebff;}#sk-6688b3c9-7211-41ab-a203-efc5b28eb2f6 div.sk-serial::before {content: \"\";position: absolute;border-left: 1px solid gray;box-sizing: border-box;top: 2em;bottom: 0;left: 50%;}#sk-6688b3c9-7211-41ab-a203-efc5b28eb2f6 div.sk-serial {display: flex;flex-direction: column;align-items: center;background-color: white;padding-right: 0.2em;padding-left: 0.2em;}#sk-6688b3c9-7211-41ab-a203-efc5b28eb2f6 div.sk-item {z-index: 1;}#sk-6688b3c9-7211-41ab-a203-efc5b28eb2f6 div.sk-parallel {display: flex;align-items: stretch;justify-content: center;background-color: white;}#sk-6688b3c9-7211-41ab-a203-efc5b28eb2f6 div.sk-parallel::before {content: \"\";position: absolute;border-left: 1px solid gray;box-sizing: border-box;top: 2em;bottom: 0;left: 50%;}#sk-6688b3c9-7211-41ab-a203-efc5b28eb2f6 div.sk-parallel-item {display: flex;flex-direction: column;position: relative;background-color: white;}#sk-6688b3c9-7211-41ab-a203-efc5b28eb2f6 div.sk-parallel-item:first-child::after {align-self: flex-end;width: 50%;}#sk-6688b3c9-7211-41ab-a203-efc5b28eb2f6 div.sk-parallel-item:last-child::after {align-self: flex-start;width: 50%;}#sk-6688b3c9-7211-41ab-a203-efc5b28eb2f6 div.sk-parallel-item:only-child::after {width: 0;}#sk-6688b3c9-7211-41ab-a203-efc5b28eb2f6 div.sk-dashed-wrapped {border: 1px dashed gray;margin: 0 0.4em 0.5em 0.4em;box-sizing: border-box;padding-bottom: 0.4em;background-color: white;position: relative;}#sk-6688b3c9-7211-41ab-a203-efc5b28eb2f6 div.sk-label label {font-family: monospace;font-weight: bold;background-color: white;display: inline-block;line-height: 1.2em;}#sk-6688b3c9-7211-41ab-a203-efc5b28eb2f6 div.sk-label-container {position: relative;z-index: 2;text-align: center;}#sk-6688b3c9-7211-41ab-a203-efc5b28eb2f6 div.sk-container {/* jupyter's `normalize.less` sets `[hidden] { display: none; }` but bootstrap.min.css set `[hidden] { display: none !important; }` so we also need the `!important` here to be able to override the default hidden behavior on the sphinx rendered scikit-learn.org. See: https://github.com/scikit-learn/scikit-learn/issues/21755 */display: inline-block !important;position: relative;}#sk-6688b3c9-7211-41ab-a203-efc5b28eb2f6 div.sk-text-repr-fallback {display: none;}</style><div id=\"sk-6688b3c9-7211-41ab-a203-efc5b28eb2f6\" class=\"sk-top-container\"><div class=\"sk-text-repr-fallback\"><pre>Pipeline(steps=[(&#x27;preprocess&#x27;,\n",
       "                 FunctionTransformer(func=&lt;function preprocess at 0x0000012FF9689040&gt;)),\n",
       "                (&#x27;label_encode&#x27;,\n",
       "                 FunctionTransformer(func=&lt;function label_encoder at 0x0000012FFA84BB80&gt;)),\n",
       "                (&#x27;ohe&#x27;, OneHotEncoder(sparse=False)), (&#x27;impute&#x27;, KNNImputer()),\n",
       "                (&#x27;k_best&#x27;, SelectKBest()),\n",
       "                (&#x27;model&#x27;,\n",
       "                 LogisticRegression(max_iter=1000, multi_class=&#x27;multinomial&#x27;))])</pre><b>Please rerun this cell to show the HTML repr or trust the notebook.</b></div><div class=\"sk-container\" hidden><div class=\"sk-item sk-dashed-wrapped\"><div class=\"sk-label-container\"><div class=\"sk-label sk-toggleable\"><input class=\"sk-toggleable__control sk-hidden--visually\" id=\"5b3c612f-bc5a-4ba5-9d3c-54745c71f6de\" type=\"checkbox\" ><label for=\"5b3c612f-bc5a-4ba5-9d3c-54745c71f6de\" class=\"sk-toggleable__label sk-toggleable__label-arrow\">Pipeline</label><div class=\"sk-toggleable__content\"><pre>Pipeline(steps=[(&#x27;preprocess&#x27;,\n",
       "                 FunctionTransformer(func=&lt;function preprocess at 0x0000012FF9689040&gt;)),\n",
       "                (&#x27;label_encode&#x27;,\n",
       "                 FunctionTransformer(func=&lt;function label_encoder at 0x0000012FFA84BB80&gt;)),\n",
       "                (&#x27;ohe&#x27;, OneHotEncoder(sparse=False)), (&#x27;impute&#x27;, KNNImputer()),\n",
       "                (&#x27;k_best&#x27;, SelectKBest()),\n",
       "                (&#x27;model&#x27;,\n",
       "                 LogisticRegression(max_iter=1000, multi_class=&#x27;multinomial&#x27;))])</pre></div></div></div><div class=\"sk-serial\"><div class=\"sk-item\"><div class=\"sk-estimator sk-toggleable\"><input class=\"sk-toggleable__control sk-hidden--visually\" id=\"ed1ed9e8-bf09-4702-9e16-1604f6063648\" type=\"checkbox\" ><label for=\"ed1ed9e8-bf09-4702-9e16-1604f6063648\" class=\"sk-toggleable__label sk-toggleable__label-arrow\">FunctionTransformer</label><div class=\"sk-toggleable__content\"><pre>FunctionTransformer(func=&lt;function preprocess at 0x0000012FF9689040&gt;)</pre></div></div></div><div class=\"sk-item\"><div class=\"sk-estimator sk-toggleable\"><input class=\"sk-toggleable__control sk-hidden--visually\" id=\"3a613c2b-7b1a-406c-8d9f-32984cb50832\" type=\"checkbox\" ><label for=\"3a613c2b-7b1a-406c-8d9f-32984cb50832\" class=\"sk-toggleable__label sk-toggleable__label-arrow\">FunctionTransformer</label><div class=\"sk-toggleable__content\"><pre>FunctionTransformer(func=&lt;function label_encoder at 0x0000012FFA84BB80&gt;)</pre></div></div></div><div class=\"sk-item\"><div class=\"sk-estimator sk-toggleable\"><input class=\"sk-toggleable__control sk-hidden--visually\" id=\"96287be5-83c4-4923-8d49-49decf1d95e1\" type=\"checkbox\" ><label for=\"96287be5-83c4-4923-8d49-49decf1d95e1\" class=\"sk-toggleable__label sk-toggleable__label-arrow\">OneHotEncoder</label><div class=\"sk-toggleable__content\"><pre>OneHotEncoder(sparse=False)</pre></div></div></div><div class=\"sk-item\"><div class=\"sk-estimator sk-toggleable\"><input class=\"sk-toggleable__control sk-hidden--visually\" id=\"14d9ea98-75fb-423f-8449-8f13228d5580\" type=\"checkbox\" ><label for=\"14d9ea98-75fb-423f-8449-8f13228d5580\" class=\"sk-toggleable__label sk-toggleable__label-arrow\">KNNImputer</label><div class=\"sk-toggleable__content\"><pre>KNNImputer()</pre></div></div></div><div class=\"sk-item\"><div class=\"sk-estimator sk-toggleable\"><input class=\"sk-toggleable__control sk-hidden--visually\" id=\"0cc09dd8-4c72-4d82-b14a-0f3cf44dd0d6\" type=\"checkbox\" ><label for=\"0cc09dd8-4c72-4d82-b14a-0f3cf44dd0d6\" class=\"sk-toggleable__label sk-toggleable__label-arrow\">SelectKBest</label><div class=\"sk-toggleable__content\"><pre>SelectKBest()</pre></div></div></div><div class=\"sk-item\"><div class=\"sk-estimator sk-toggleable\"><input class=\"sk-toggleable__control sk-hidden--visually\" id=\"d39cc984-7618-441b-883d-6246d8f7e448\" type=\"checkbox\" ><label for=\"d39cc984-7618-441b-883d-6246d8f7e448\" class=\"sk-toggleable__label sk-toggleable__label-arrow\">LogisticRegression</label><div class=\"sk-toggleable__content\"><pre>LogisticRegression(max_iter=1000, multi_class=&#x27;multinomial&#x27;)</pre></div></div></div></div></div></div></div>"
      ],
      "text/plain": [
       "Pipeline(steps=[('preprocess',\n",
       "                 FunctionTransformer(func=<function preprocess at 0x0000012FF9689040>)),\n",
       "                ('label_encode',\n",
       "                 FunctionTransformer(func=<function label_encoder at 0x0000012FFA84BB80>)),\n",
       "                ('ohe', OneHotEncoder(sparse=False)), ('impute', KNNImputer()),\n",
       "                ('k_best', SelectKBest()),\n",
       "                ('model',\n",
       "                 LogisticRegression(max_iter=1000, multi_class='multinomial'))])"
      ]
     },
     "execution_count": 15,
     "metadata": {},
     "output_type": "execute_result"
    }
   ],
   "source": [
    "from sklearn import set_config\n",
    "set_config(display='diagram')\n",
    "\n",
    "main_pipe_k_best"
   ]
  },
  {
   "cell_type": "code",
   "execution_count": 16,
   "id": "8c8d48ff",
   "metadata": {},
   "outputs": [
    {
     "data": {
      "text/html": [
       "<style>#sk-ef1f1fda-be0f-4ce3-af46-1b2c65bb245b {color: black;background-color: white;}#sk-ef1f1fda-be0f-4ce3-af46-1b2c65bb245b pre{padding: 0;}#sk-ef1f1fda-be0f-4ce3-af46-1b2c65bb245b div.sk-toggleable {background-color: white;}#sk-ef1f1fda-be0f-4ce3-af46-1b2c65bb245b label.sk-toggleable__label {cursor: pointer;display: block;width: 100%;margin-bottom: 0;padding: 0.3em;box-sizing: border-box;text-align: center;}#sk-ef1f1fda-be0f-4ce3-af46-1b2c65bb245b label.sk-toggleable__label-arrow:before {content: \"▸\";float: left;margin-right: 0.25em;color: #696969;}#sk-ef1f1fda-be0f-4ce3-af46-1b2c65bb245b label.sk-toggleable__label-arrow:hover:before {color: black;}#sk-ef1f1fda-be0f-4ce3-af46-1b2c65bb245b div.sk-estimator:hover label.sk-toggleable__label-arrow:before {color: black;}#sk-ef1f1fda-be0f-4ce3-af46-1b2c65bb245b div.sk-toggleable__content {max-height: 0;max-width: 0;overflow: hidden;text-align: left;background-color: #f0f8ff;}#sk-ef1f1fda-be0f-4ce3-af46-1b2c65bb245b div.sk-toggleable__content pre {margin: 0.2em;color: black;border-radius: 0.25em;background-color: #f0f8ff;}#sk-ef1f1fda-be0f-4ce3-af46-1b2c65bb245b input.sk-toggleable__control:checked~div.sk-toggleable__content {max-height: 200px;max-width: 100%;overflow: auto;}#sk-ef1f1fda-be0f-4ce3-af46-1b2c65bb245b input.sk-toggleable__control:checked~label.sk-toggleable__label-arrow:before {content: \"▾\";}#sk-ef1f1fda-be0f-4ce3-af46-1b2c65bb245b div.sk-estimator input.sk-toggleable__control:checked~label.sk-toggleable__label {background-color: #d4ebff;}#sk-ef1f1fda-be0f-4ce3-af46-1b2c65bb245b div.sk-label input.sk-toggleable__control:checked~label.sk-toggleable__label {background-color: #d4ebff;}#sk-ef1f1fda-be0f-4ce3-af46-1b2c65bb245b input.sk-hidden--visually {border: 0;clip: rect(1px 1px 1px 1px);clip: rect(1px, 1px, 1px, 1px);height: 1px;margin: -1px;overflow: hidden;padding: 0;position: absolute;width: 1px;}#sk-ef1f1fda-be0f-4ce3-af46-1b2c65bb245b div.sk-estimator {font-family: monospace;background-color: #f0f8ff;border: 1px dotted black;border-radius: 0.25em;box-sizing: border-box;margin-bottom: 0.5em;}#sk-ef1f1fda-be0f-4ce3-af46-1b2c65bb245b div.sk-estimator:hover {background-color: #d4ebff;}#sk-ef1f1fda-be0f-4ce3-af46-1b2c65bb245b div.sk-parallel-item::after {content: \"\";width: 100%;border-bottom: 1px solid gray;flex-grow: 1;}#sk-ef1f1fda-be0f-4ce3-af46-1b2c65bb245b div.sk-label:hover label.sk-toggleable__label {background-color: #d4ebff;}#sk-ef1f1fda-be0f-4ce3-af46-1b2c65bb245b div.sk-serial::before {content: \"\";position: absolute;border-left: 1px solid gray;box-sizing: border-box;top: 2em;bottom: 0;left: 50%;}#sk-ef1f1fda-be0f-4ce3-af46-1b2c65bb245b div.sk-serial {display: flex;flex-direction: column;align-items: center;background-color: white;padding-right: 0.2em;padding-left: 0.2em;}#sk-ef1f1fda-be0f-4ce3-af46-1b2c65bb245b div.sk-item {z-index: 1;}#sk-ef1f1fda-be0f-4ce3-af46-1b2c65bb245b div.sk-parallel {display: flex;align-items: stretch;justify-content: center;background-color: white;}#sk-ef1f1fda-be0f-4ce3-af46-1b2c65bb245b div.sk-parallel::before {content: \"\";position: absolute;border-left: 1px solid gray;box-sizing: border-box;top: 2em;bottom: 0;left: 50%;}#sk-ef1f1fda-be0f-4ce3-af46-1b2c65bb245b div.sk-parallel-item {display: flex;flex-direction: column;position: relative;background-color: white;}#sk-ef1f1fda-be0f-4ce3-af46-1b2c65bb245b div.sk-parallel-item:first-child::after {align-self: flex-end;width: 50%;}#sk-ef1f1fda-be0f-4ce3-af46-1b2c65bb245b div.sk-parallel-item:last-child::after {align-self: flex-start;width: 50%;}#sk-ef1f1fda-be0f-4ce3-af46-1b2c65bb245b div.sk-parallel-item:only-child::after {width: 0;}#sk-ef1f1fda-be0f-4ce3-af46-1b2c65bb245b div.sk-dashed-wrapped {border: 1px dashed gray;margin: 0 0.4em 0.5em 0.4em;box-sizing: border-box;padding-bottom: 0.4em;background-color: white;position: relative;}#sk-ef1f1fda-be0f-4ce3-af46-1b2c65bb245b div.sk-label label {font-family: monospace;font-weight: bold;background-color: white;display: inline-block;line-height: 1.2em;}#sk-ef1f1fda-be0f-4ce3-af46-1b2c65bb245b div.sk-label-container {position: relative;z-index: 2;text-align: center;}#sk-ef1f1fda-be0f-4ce3-af46-1b2c65bb245b div.sk-container {/* jupyter's `normalize.less` sets `[hidden] { display: none; }` but bootstrap.min.css set `[hidden] { display: none !important; }` so we also need the `!important` here to be able to override the default hidden behavior on the sphinx rendered scikit-learn.org. See: https://github.com/scikit-learn/scikit-learn/issues/21755 */display: inline-block !important;position: relative;}#sk-ef1f1fda-be0f-4ce3-af46-1b2c65bb245b div.sk-text-repr-fallback {display: none;}</style><div id=\"sk-ef1f1fda-be0f-4ce3-af46-1b2c65bb245b\" class=\"sk-top-container\"><div class=\"sk-text-repr-fallback\"><pre>Pipeline(steps=[(&#x27;preprocess&#x27;,\n",
       "                 FunctionTransformer(func=&lt;function preprocess at 0x0000012FF9689040&gt;)),\n",
       "                (&#x27;label_encode&#x27;,\n",
       "                 FunctionTransformer(func=&lt;function label_encoder at 0x0000012FFA84BB80&gt;)),\n",
       "                (&#x27;ohe&#x27;, OneHotEncoder(sparse=False)), (&#x27;impute&#x27;, KNNImputer()),\n",
       "                (&#x27;k_best&#x27;, SelectKBest()),\n",
       "                (&#x27;model&#x27;,\n",
       "                 LogisticRegression(max_iter=1000, multi_class=&#x27;multinomial&#x27;))])</pre><b>Please rerun this cell to show the HTML repr or trust the notebook.</b></div><div class=\"sk-container\" hidden><div class=\"sk-item sk-dashed-wrapped\"><div class=\"sk-label-container\"><div class=\"sk-label sk-toggleable\"><input class=\"sk-toggleable__control sk-hidden--visually\" id=\"7417c8fc-37a6-42eb-a7ed-7862107313b1\" type=\"checkbox\" ><label for=\"7417c8fc-37a6-42eb-a7ed-7862107313b1\" class=\"sk-toggleable__label sk-toggleable__label-arrow\">Pipeline</label><div class=\"sk-toggleable__content\"><pre>Pipeline(steps=[(&#x27;preprocess&#x27;,\n",
       "                 FunctionTransformer(func=&lt;function preprocess at 0x0000012FF9689040&gt;)),\n",
       "                (&#x27;label_encode&#x27;,\n",
       "                 FunctionTransformer(func=&lt;function label_encoder at 0x0000012FFA84BB80&gt;)),\n",
       "                (&#x27;ohe&#x27;, OneHotEncoder(sparse=False)), (&#x27;impute&#x27;, KNNImputer()),\n",
       "                (&#x27;k_best&#x27;, SelectKBest()),\n",
       "                (&#x27;model&#x27;,\n",
       "                 LogisticRegression(max_iter=1000, multi_class=&#x27;multinomial&#x27;))])</pre></div></div></div><div class=\"sk-serial\"><div class=\"sk-item\"><div class=\"sk-estimator sk-toggleable\"><input class=\"sk-toggleable__control sk-hidden--visually\" id=\"d00b84c1-b574-420f-bb25-1bfd1d142d96\" type=\"checkbox\" ><label for=\"d00b84c1-b574-420f-bb25-1bfd1d142d96\" class=\"sk-toggleable__label sk-toggleable__label-arrow\">FunctionTransformer</label><div class=\"sk-toggleable__content\"><pre>FunctionTransformer(func=&lt;function preprocess at 0x0000012FF9689040&gt;)</pre></div></div></div><div class=\"sk-item\"><div class=\"sk-estimator sk-toggleable\"><input class=\"sk-toggleable__control sk-hidden--visually\" id=\"5423b508-11f5-4846-9168-f70b77705531\" type=\"checkbox\" ><label for=\"5423b508-11f5-4846-9168-f70b77705531\" class=\"sk-toggleable__label sk-toggleable__label-arrow\">FunctionTransformer</label><div class=\"sk-toggleable__content\"><pre>FunctionTransformer(func=&lt;function label_encoder at 0x0000012FFA84BB80&gt;)</pre></div></div></div><div class=\"sk-item\"><div class=\"sk-estimator sk-toggleable\"><input class=\"sk-toggleable__control sk-hidden--visually\" id=\"6f57e2de-9688-4db7-8403-d5df881f03fd\" type=\"checkbox\" ><label for=\"6f57e2de-9688-4db7-8403-d5df881f03fd\" class=\"sk-toggleable__label sk-toggleable__label-arrow\">OneHotEncoder</label><div class=\"sk-toggleable__content\"><pre>OneHotEncoder(sparse=False)</pre></div></div></div><div class=\"sk-item\"><div class=\"sk-estimator sk-toggleable\"><input class=\"sk-toggleable__control sk-hidden--visually\" id=\"cb0e81b6-3616-421a-9630-aeb65f01960f\" type=\"checkbox\" ><label for=\"cb0e81b6-3616-421a-9630-aeb65f01960f\" class=\"sk-toggleable__label sk-toggleable__label-arrow\">KNNImputer</label><div class=\"sk-toggleable__content\"><pre>KNNImputer()</pre></div></div></div><div class=\"sk-item\"><div class=\"sk-estimator sk-toggleable\"><input class=\"sk-toggleable__control sk-hidden--visually\" id=\"4fd2ae94-4f7b-4312-afc4-6a6fe7ac6324\" type=\"checkbox\" ><label for=\"4fd2ae94-4f7b-4312-afc4-6a6fe7ac6324\" class=\"sk-toggleable__label sk-toggleable__label-arrow\">SelectKBest</label><div class=\"sk-toggleable__content\"><pre>SelectKBest()</pre></div></div></div><div class=\"sk-item\"><div class=\"sk-estimator sk-toggleable\"><input class=\"sk-toggleable__control sk-hidden--visually\" id=\"25bce7c3-20a7-4c96-96a1-35ec89a3dd24\" type=\"checkbox\" ><label for=\"25bce7c3-20a7-4c96-96a1-35ec89a3dd24\" class=\"sk-toggleable__label sk-toggleable__label-arrow\">LogisticRegression</label><div class=\"sk-toggleable__content\"><pre>LogisticRegression(max_iter=1000, multi_class=&#x27;multinomial&#x27;)</pre></div></div></div></div></div></div></div>"
      ],
      "text/plain": [
       "Pipeline(steps=[('preprocess',\n",
       "                 FunctionTransformer(func=<function preprocess at 0x0000012FF9689040>)),\n",
       "                ('label_encode',\n",
       "                 FunctionTransformer(func=<function label_encoder at 0x0000012FFA84BB80>)),\n",
       "                ('ohe', OneHotEncoder(sparse=False)), ('impute', KNNImputer()),\n",
       "                ('k_best', SelectKBest()),\n",
       "                ('model',\n",
       "                 LogisticRegression(max_iter=1000, multi_class='multinomial'))])"
      ]
     },
     "execution_count": 16,
     "metadata": {},
     "output_type": "execute_result"
    }
   ],
   "source": [
    "main_pipe_k_best.fit(X_train, y_train)"
   ]
  },
  {
   "cell_type": "code",
   "execution_count": 17,
   "id": "dfae2ff7",
   "metadata": {},
   "outputs": [],
   "source": [
    "y_pred = main_pipe_k_best.predict(X_test)"
   ]
  },
  {
   "cell_type": "code",
   "execution_count": 19,
   "id": "fdb50847",
   "metadata": {},
   "outputs": [
    {
     "data": {
      "text/plain": [
       "0.8451962110960758"
      ]
     },
     "execution_count": 19,
     "metadata": {},
     "output_type": "execute_result"
    }
   ],
   "source": [
    "from sklearn.metrics import accuracy_score\n",
    "accuracy_score(y_pred, y_test)"
   ]
  },
  {
   "cell_type": "code",
   "execution_count": 20,
   "id": "da8f9c59",
   "metadata": {},
   "outputs": [
    {
     "data": {
      "text/html": [
       "<style>#sk-a08fe616-880f-4f61-8111-16688a0f8e04 {color: black;background-color: white;}#sk-a08fe616-880f-4f61-8111-16688a0f8e04 pre{padding: 0;}#sk-a08fe616-880f-4f61-8111-16688a0f8e04 div.sk-toggleable {background-color: white;}#sk-a08fe616-880f-4f61-8111-16688a0f8e04 label.sk-toggleable__label {cursor: pointer;display: block;width: 100%;margin-bottom: 0;padding: 0.3em;box-sizing: border-box;text-align: center;}#sk-a08fe616-880f-4f61-8111-16688a0f8e04 label.sk-toggleable__label-arrow:before {content: \"▸\";float: left;margin-right: 0.25em;color: #696969;}#sk-a08fe616-880f-4f61-8111-16688a0f8e04 label.sk-toggleable__label-arrow:hover:before {color: black;}#sk-a08fe616-880f-4f61-8111-16688a0f8e04 div.sk-estimator:hover label.sk-toggleable__label-arrow:before {color: black;}#sk-a08fe616-880f-4f61-8111-16688a0f8e04 div.sk-toggleable__content {max-height: 0;max-width: 0;overflow: hidden;text-align: left;background-color: #f0f8ff;}#sk-a08fe616-880f-4f61-8111-16688a0f8e04 div.sk-toggleable__content pre {margin: 0.2em;color: black;border-radius: 0.25em;background-color: #f0f8ff;}#sk-a08fe616-880f-4f61-8111-16688a0f8e04 input.sk-toggleable__control:checked~div.sk-toggleable__content {max-height: 200px;max-width: 100%;overflow: auto;}#sk-a08fe616-880f-4f61-8111-16688a0f8e04 input.sk-toggleable__control:checked~label.sk-toggleable__label-arrow:before {content: \"▾\";}#sk-a08fe616-880f-4f61-8111-16688a0f8e04 div.sk-estimator input.sk-toggleable__control:checked~label.sk-toggleable__label {background-color: #d4ebff;}#sk-a08fe616-880f-4f61-8111-16688a0f8e04 div.sk-label input.sk-toggleable__control:checked~label.sk-toggleable__label {background-color: #d4ebff;}#sk-a08fe616-880f-4f61-8111-16688a0f8e04 input.sk-hidden--visually {border: 0;clip: rect(1px 1px 1px 1px);clip: rect(1px, 1px, 1px, 1px);height: 1px;margin: -1px;overflow: hidden;padding: 0;position: absolute;width: 1px;}#sk-a08fe616-880f-4f61-8111-16688a0f8e04 div.sk-estimator {font-family: monospace;background-color: #f0f8ff;border: 1px dotted black;border-radius: 0.25em;box-sizing: border-box;margin-bottom: 0.5em;}#sk-a08fe616-880f-4f61-8111-16688a0f8e04 div.sk-estimator:hover {background-color: #d4ebff;}#sk-a08fe616-880f-4f61-8111-16688a0f8e04 div.sk-parallel-item::after {content: \"\";width: 100%;border-bottom: 1px solid gray;flex-grow: 1;}#sk-a08fe616-880f-4f61-8111-16688a0f8e04 div.sk-label:hover label.sk-toggleable__label {background-color: #d4ebff;}#sk-a08fe616-880f-4f61-8111-16688a0f8e04 div.sk-serial::before {content: \"\";position: absolute;border-left: 1px solid gray;box-sizing: border-box;top: 2em;bottom: 0;left: 50%;}#sk-a08fe616-880f-4f61-8111-16688a0f8e04 div.sk-serial {display: flex;flex-direction: column;align-items: center;background-color: white;padding-right: 0.2em;padding-left: 0.2em;}#sk-a08fe616-880f-4f61-8111-16688a0f8e04 div.sk-item {z-index: 1;}#sk-a08fe616-880f-4f61-8111-16688a0f8e04 div.sk-parallel {display: flex;align-items: stretch;justify-content: center;background-color: white;}#sk-a08fe616-880f-4f61-8111-16688a0f8e04 div.sk-parallel::before {content: \"\";position: absolute;border-left: 1px solid gray;box-sizing: border-box;top: 2em;bottom: 0;left: 50%;}#sk-a08fe616-880f-4f61-8111-16688a0f8e04 div.sk-parallel-item {display: flex;flex-direction: column;position: relative;background-color: white;}#sk-a08fe616-880f-4f61-8111-16688a0f8e04 div.sk-parallel-item:first-child::after {align-self: flex-end;width: 50%;}#sk-a08fe616-880f-4f61-8111-16688a0f8e04 div.sk-parallel-item:last-child::after {align-self: flex-start;width: 50%;}#sk-a08fe616-880f-4f61-8111-16688a0f8e04 div.sk-parallel-item:only-child::after {width: 0;}#sk-a08fe616-880f-4f61-8111-16688a0f8e04 div.sk-dashed-wrapped {border: 1px dashed gray;margin: 0 0.4em 0.5em 0.4em;box-sizing: border-box;padding-bottom: 0.4em;background-color: white;position: relative;}#sk-a08fe616-880f-4f61-8111-16688a0f8e04 div.sk-label label {font-family: monospace;font-weight: bold;background-color: white;display: inline-block;line-height: 1.2em;}#sk-a08fe616-880f-4f61-8111-16688a0f8e04 div.sk-label-container {position: relative;z-index: 2;text-align: center;}#sk-a08fe616-880f-4f61-8111-16688a0f8e04 div.sk-container {/* jupyter's `normalize.less` sets `[hidden] { display: none; }` but bootstrap.min.css set `[hidden] { display: none !important; }` so we also need the `!important` here to be able to override the default hidden behavior on the sphinx rendered scikit-learn.org. See: https://github.com/scikit-learn/scikit-learn/issues/21755 */display: inline-block !important;position: relative;}#sk-a08fe616-880f-4f61-8111-16688a0f8e04 div.sk-text-repr-fallback {display: none;}</style><div id=\"sk-a08fe616-880f-4f61-8111-16688a0f8e04\" class=\"sk-top-container\"><div class=\"sk-text-repr-fallback\"><pre>Pipeline(steps=[(&#x27;preprocess&#x27;,\n",
       "                 FunctionTransformer(func=&lt;function preprocess at 0x0000012FF9689040&gt;)),\n",
       "                (&#x27;label_encoder&#x27;,\n",
       "                 FunctionTransformer(func=&lt;function label_encoder at 0x0000012FFA84BB80&gt;)),\n",
       "                (&#x27;ohe&#x27;, OneHotEncoder(sparse=False)), (&#x27;impute&#x27;, KNNImputer()),\n",
       "                (&#x27;pca&#x27;, PCA(n_components=10)),\n",
       "                (&#x27;model&#x27;,\n",
       "                 LogisticRegression(max_iter=1000, multi_class=&#x27;multinomial&#x27;))])</pre><b>Please rerun this cell to show the HTML repr or trust the notebook.</b></div><div class=\"sk-container\" hidden><div class=\"sk-item sk-dashed-wrapped\"><div class=\"sk-label-container\"><div class=\"sk-label sk-toggleable\"><input class=\"sk-toggleable__control sk-hidden--visually\" id=\"d0c3bb56-1851-4c76-b24c-9f7fc93324bc\" type=\"checkbox\" ><label for=\"d0c3bb56-1851-4c76-b24c-9f7fc93324bc\" class=\"sk-toggleable__label sk-toggleable__label-arrow\">Pipeline</label><div class=\"sk-toggleable__content\"><pre>Pipeline(steps=[(&#x27;preprocess&#x27;,\n",
       "                 FunctionTransformer(func=&lt;function preprocess at 0x0000012FF9689040&gt;)),\n",
       "                (&#x27;label_encoder&#x27;,\n",
       "                 FunctionTransformer(func=&lt;function label_encoder at 0x0000012FFA84BB80&gt;)),\n",
       "                (&#x27;ohe&#x27;, OneHotEncoder(sparse=False)), (&#x27;impute&#x27;, KNNImputer()),\n",
       "                (&#x27;pca&#x27;, PCA(n_components=10)),\n",
       "                (&#x27;model&#x27;,\n",
       "                 LogisticRegression(max_iter=1000, multi_class=&#x27;multinomial&#x27;))])</pre></div></div></div><div class=\"sk-serial\"><div class=\"sk-item\"><div class=\"sk-estimator sk-toggleable\"><input class=\"sk-toggleable__control sk-hidden--visually\" id=\"f4cf2dcf-5893-41ed-9e78-504405c4ed94\" type=\"checkbox\" ><label for=\"f4cf2dcf-5893-41ed-9e78-504405c4ed94\" class=\"sk-toggleable__label sk-toggleable__label-arrow\">FunctionTransformer</label><div class=\"sk-toggleable__content\"><pre>FunctionTransformer(func=&lt;function preprocess at 0x0000012FF9689040&gt;)</pre></div></div></div><div class=\"sk-item\"><div class=\"sk-estimator sk-toggleable\"><input class=\"sk-toggleable__control sk-hidden--visually\" id=\"a7b3b913-06de-44de-a536-af3ba9e19979\" type=\"checkbox\" ><label for=\"a7b3b913-06de-44de-a536-af3ba9e19979\" class=\"sk-toggleable__label sk-toggleable__label-arrow\">FunctionTransformer</label><div class=\"sk-toggleable__content\"><pre>FunctionTransformer(func=&lt;function label_encoder at 0x0000012FFA84BB80&gt;)</pre></div></div></div><div class=\"sk-item\"><div class=\"sk-estimator sk-toggleable\"><input class=\"sk-toggleable__control sk-hidden--visually\" id=\"07911d66-c1f5-487e-9614-60dd34e8a7b0\" type=\"checkbox\" ><label for=\"07911d66-c1f5-487e-9614-60dd34e8a7b0\" class=\"sk-toggleable__label sk-toggleable__label-arrow\">OneHotEncoder</label><div class=\"sk-toggleable__content\"><pre>OneHotEncoder(sparse=False)</pre></div></div></div><div class=\"sk-item\"><div class=\"sk-estimator sk-toggleable\"><input class=\"sk-toggleable__control sk-hidden--visually\" id=\"967609a8-101e-40bd-ad6d-1fc946a193f2\" type=\"checkbox\" ><label for=\"967609a8-101e-40bd-ad6d-1fc946a193f2\" class=\"sk-toggleable__label sk-toggleable__label-arrow\">KNNImputer</label><div class=\"sk-toggleable__content\"><pre>KNNImputer()</pre></div></div></div><div class=\"sk-item\"><div class=\"sk-estimator sk-toggleable\"><input class=\"sk-toggleable__control sk-hidden--visually\" id=\"8aeba97d-4b98-4ddc-a799-649802944fb9\" type=\"checkbox\" ><label for=\"8aeba97d-4b98-4ddc-a799-649802944fb9\" class=\"sk-toggleable__label sk-toggleable__label-arrow\">PCA</label><div class=\"sk-toggleable__content\"><pre>PCA(n_components=10)</pre></div></div></div><div class=\"sk-item\"><div class=\"sk-estimator sk-toggleable\"><input class=\"sk-toggleable__control sk-hidden--visually\" id=\"ea9e858d-7e45-4492-8c38-6a6e594bc83e\" type=\"checkbox\" ><label for=\"ea9e858d-7e45-4492-8c38-6a6e594bc83e\" class=\"sk-toggleable__label sk-toggleable__label-arrow\">LogisticRegression</label><div class=\"sk-toggleable__content\"><pre>LogisticRegression(max_iter=1000, multi_class=&#x27;multinomial&#x27;)</pre></div></div></div></div></div></div></div>"
      ],
      "text/plain": [
       "Pipeline(steps=[('preprocess',\n",
       "                 FunctionTransformer(func=<function preprocess at 0x0000012FF9689040>)),\n",
       "                ('label_encoder',\n",
       "                 FunctionTransformer(func=<function label_encoder at 0x0000012FFA84BB80>)),\n",
       "                ('ohe', OneHotEncoder(sparse=False)), ('impute', KNNImputer()),\n",
       "                ('pca', PCA(n_components=10)),\n",
       "                ('model',\n",
       "                 LogisticRegression(max_iter=1000, multi_class='multinomial'))])"
      ]
     },
     "execution_count": 20,
     "metadata": {},
     "output_type": "execute_result"
    }
   ],
   "source": [
    "main_pipe_pca.fit(X_train, y_train)"
   ]
  },
  {
   "cell_type": "code",
   "execution_count": 22,
   "id": "c6a66fa1",
   "metadata": {},
   "outputs": [],
   "source": [
    "y_pred = main_pipe_pca.predict(X_test)"
   ]
  },
  {
   "cell_type": "code",
   "execution_count": 23,
   "id": "cda62068",
   "metadata": {},
   "outputs": [
    {
     "data": {
      "text/plain": [
       "0.8457374830852503"
      ]
     },
     "execution_count": 23,
     "metadata": {},
     "output_type": "execute_result"
    }
   ],
   "source": [
    "accuracy_score(y_pred, y_test)"
   ]
  },
  {
   "cell_type": "code",
   "execution_count": null,
   "id": "ca0ffe1d",
   "metadata": {},
   "outputs": [],
   "source": []
  }
 ],
 "metadata": {
  "kernelspec": {
   "display_name": "Python 3 (ipykernel)",
   "language": "python",
   "name": "python3"
  },
  "language_info": {
   "codemirror_mode": {
    "name": "ipython",
    "version": 3
   },
   "file_extension": ".py",
   "mimetype": "text/x-python",
   "name": "python",
   "nbconvert_exporter": "python",
   "pygments_lexer": "ipython3",
   "version": "3.9.7"
  }
 },
 "nbformat": 4,
 "nbformat_minor": 5
}
