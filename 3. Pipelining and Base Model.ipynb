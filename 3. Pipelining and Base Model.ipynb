{
 "cells": [
  {
   "cell_type": "markdown",
   "id": "55651d28",
   "metadata": {},
   "source": [
    "# Pipelining and Base Model"
   ]
  },
  {
   "cell_type": "code",
   "execution_count": 1,
   "id": "da0c6b5f",
   "metadata": {},
   "outputs": [],
   "source": [
    "import numpy as np\n",
    "import pandas as pd\n",
    "import help_functions as hf"
   ]
  },
  {
   "cell_type": "code",
   "execution_count": 2,
   "id": "d45ef67d",
   "metadata": {},
   "outputs": [],
   "source": [
    "from sklearn.model_selection import train_test_split\n",
    "from sklearn.preprocessing import LabelEncoder\n",
    "\n",
    "df = pd.read_csv('RTA Dataset.csv')\n",
    "X = df.iloc[:, :-1]\n",
    "y = df.iloc[:, -1]\n",
    "\n",
    "X_train, X_test, y_train, y_test = train_test_split(X, y, test_size=0.3, stratify=y)\n",
    "\n",
    "le = LabelEncoder()\n",
    "y_train = le.fit_transform(y_train)\n",
    "y_test = le.transform(y_test)"
   ]
  },
  {
   "cell_type": "code",
   "execution_count": 3,
   "id": "f7695a18",
   "metadata": {},
   "outputs": [
    {
     "data": {
      "text/plain": [
       "array(['Fatal injury', 'Serious Injury', 'Slight Injury'], dtype=object)"
      ]
     },
     "execution_count": 3,
     "metadata": {},
     "output_type": "execute_result"
    }
   ],
   "source": [
    "le.classes_"
   ]
  },
  {
   "cell_type": "code",
   "execution_count": 4,
   "id": "fc848e50",
   "metadata": {},
   "outputs": [],
   "source": [
    "from sklearn.preprocessing import OrdinalEncoder\n",
    "from sklearn.impute import KNNImputer\n",
    "from fancyimpute import KNN\n",
    "from sklearn.preprocessing import StandardScaler, OneHotEncoder, FunctionTransformer\n",
    "from sklearn.compose import make_column_transformer\n",
    "from sklearn.pipeline import Pipeline\n",
    "from imblearn.pipeline import Pipeline as imbpipeline\n",
    "from sklearn.feature_selection import SelectKBest, chi2, mutual_info_classif"
   ]
  },
  {
   "cell_type": "code",
   "execution_count": 5,
   "id": "45e610fa",
   "metadata": {},
   "outputs": [],
   "source": [
    "from sklearn.base import BaseEstimator, TransformerMixin\n",
    "class ToDenseTransformer(BaseEstimator, TransformerMixin):\n",
    "    \n",
    "    # here you define the operation it should perform\n",
    "    def transform(self, X, y=None, **fit_params):\n",
    "        return X.todense()\n",
    "    \n",
    "    #just return self\n",
    "    def fit(self, X, y=None, **fit_params):\n",
    "        return self"
   ]
  },
  {
   "cell_type": "code",
   "execution_count": 6,
   "id": "b9c5ceac",
   "metadata": {},
   "outputs": [],
   "source": [
    "oe = OrdinalEncoder()\n",
    "knn_imputer = KNNImputer()\n",
    "fancy_knn = KNN()\n",
    "preprocess = FunctionTransformer(hf.preprocess)\n",
    "encode = FunctionTransformer(hf.encode, kw_args={'encoder': oe})\n",
    "impute = FunctionTransformer(hf.impute, kw_args={'imputer': knn_imputer})\n",
    "ohe = OneHotEncoder(handle_unknown='ignore')"
   ]
  },
  {
   "cell_type": "code",
   "execution_count": 7,
   "id": "e920e21d",
   "metadata": {},
   "outputs": [],
   "source": [
    "oh = make_column_transformer(\n",
    "    (ohe, hf.cat_col_without_order)\n",
    ")"
   ]
  },
  {
   "cell_type": "code",
   "execution_count": 8,
   "id": "545b98ba",
   "metadata": {},
   "outputs": [],
   "source": [
    "from imblearn.combine import SMOTEENN, SMOTETomek\n",
    "from imblearn.under_sampling import TomekLinks, ClusterCentroids\n",
    "from imblearn.over_sampling import SMOTE, SMOTEN"
   ]
  },
  {
   "cell_type": "code",
   "execution_count": 9,
   "id": "4f814f82",
   "metadata": {},
   "outputs": [],
   "source": [
    "smote = SMOTE(sampling_strategy='minority', k_neighbors=20)\n",
    "smoten = SMOTEN(sampling_strategy='minority', k_neighbors=20)\n",
    "smote_enn = SMOTEENN(smote=smote)\n",
    "smote_tomek = SMOTETomek(smote=smote)\n",
    "tomek_links = TomekLinks(sampling_strategy='majority')\n",
    "cc = ClusterCentroids(sampling_strategy='not minority')\n",
    "\n",
    "k_best = SelectKBest(k=25, score_func=chi2)"
   ]
  },
  {
   "cell_type": "code",
   "execution_count": 10,
   "id": "75b3c4a3",
   "metadata": {},
   "outputs": [],
   "source": [
    "from sklearn.linear_model import LogisticRegression\n",
    "from sklearn.ensemble import RandomForestClassifier\n",
    "from imblearn.ensemble import BalancedRandomForestClassifier, EasyEnsembleClassifier\n",
    "\n",
    "base_model = LogisticRegression(multi_class='multinomial', max_iter=300)\n",
    "\n",
    "rfc = RandomForestClassifier(n_estimators=500, class_weight='balanced')\n",
    "brfc = BalancedRandomForestClassifier(n_estimators=100, class_weight=\"balanced\")\n",
    "eec = EasyEnsembleClassifier(n_estimators=100)"
   ]
  },
  {
   "cell_type": "code",
   "execution_count": 11,
   "id": "3b405af1",
   "metadata": {},
   "outputs": [],
   "source": [
    "main_pipe_k_best = imbpipeline([\n",
    "        ('preprocess', preprocess),                 \n",
    "        ('encoder', encode),        \n",
    "        ('impute', impute),\n",
    "        ('resample', smote),\n",
    "        ('ohe', oh), \n",
    "        ('k_best', k_best),\n",
    "        ('model', rfc),\n",
    "    ])"
   ]
  },
  {
   "cell_type": "code",
   "execution_count": 12,
   "id": "d6aca54a",
   "metadata": {},
   "outputs": [],
   "source": [
    "# from sklearn import set_config\n",
    "# set_config(display='diagram')\n",
    "\n",
    "# main_pipe_k_best"
   ]
  },
  {
   "cell_type": "code",
   "execution_count": null,
   "id": "b9a87de0",
   "metadata": {},
   "outputs": [],
   "source": [
    "main_pipe_k_best.fit(X_train, y_train);"
   ]
  },
  {
   "cell_type": "code",
   "execution_count": null,
   "id": "1668b71b",
   "metadata": {},
   "outputs": [],
   "source": [
    "y_pred_1 = main_pipe_k_best.predict(X_test)"
   ]
  },
  {
   "cell_type": "code",
   "execution_count": null,
   "id": "d9dd3e17",
   "metadata": {},
   "outputs": [],
   "source": [
    "from sklearn.metrics import ConfusionMatrixDisplay, classification_report, accuracy_score\n",
    "print(classification_report(y_test, y_pred_1, zero_division=0))"
   ]
  },
  {
   "cell_type": "code",
   "execution_count": null,
   "id": "6ef789d9",
   "metadata": {},
   "outputs": [],
   "source": [
    "ConfusionMatrixDisplay.from_predictions(y_test, y_pred_1);"
   ]
  },
  {
   "cell_type": "code",
   "execution_count": null,
   "id": "e091c282",
   "metadata": {},
   "outputs": [],
   "source": [
    "print('Accuracy Score: ', accuracy_score(y_test, y_pred_1))"
   ]
  },
  {
   "cell_type": "code",
   "execution_count": null,
   "id": "611b0986",
   "metadata": {},
   "outputs": [],
   "source": [
    "# from sklearn.decomposition import PCA\n",
    "# pca = PCA(n_components=20)\n",
    "\n",
    "# main_pipe_pca = imbpipeline([    \n",
    "#         ('preprocess', preprocess),                 \n",
    "#         ('encoder', encode),\n",
    "#         ('impute', impute),\n",
    "#         ('resample', smote),\n",
    "#         ('ohe', ohe),\n",
    "#         ('to_dense', ToDenseTransformer()),\n",
    "#         ('pca', pca),\n",
    "#         ('model', rfc),\n",
    "#     ])\n",
    "\n",
    "# main_pipe_pca.fit(X_train, y_train)\n",
    "# y_pred_2 = main_pipe_pca.predict(X_test)"
   ]
  },
  {
   "cell_type": "code",
   "execution_count": null,
   "id": "775b26c7",
   "metadata": {},
   "outputs": [],
   "source": [
    "# print(classification_report(y_test, y_pred_2))"
   ]
  },
  {
   "cell_type": "code",
   "execution_count": null,
   "id": "d7de7f02",
   "metadata": {},
   "outputs": [],
   "source": [
    "# ConfusionMatrixDisplay.from_predictions(y_test, y_pred_2);"
   ]
  },
  {
   "cell_type": "code",
   "execution_count": null,
   "id": "c8c0297f",
   "metadata": {},
   "outputs": [],
   "source": [
    "# print('Accuracy Score: ', accuracy_score(y_test, y_pred_2))"
   ]
  }
 ],
 "metadata": {
  "kernelspec": {
   "display_name": "Python 3 (ipykernel)",
   "language": "python",
   "name": "python3"
  },
  "language_info": {
   "codemirror_mode": {
    "name": "ipython",
    "version": 3
   },
   "file_extension": ".py",
   "mimetype": "text/x-python",
   "name": "python",
   "nbconvert_exporter": "python",
   "pygments_lexer": "ipython3",
   "version": "3.9.7"
  }
 },
 "nbformat": 4,
 "nbformat_minor": 5
}
